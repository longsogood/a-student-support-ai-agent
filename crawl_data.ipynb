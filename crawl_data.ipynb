{
 "cells": [
  {
   "cell_type": "code",
   "execution_count": 1,
   "metadata": {},
   "outputs": [],
   "source": [
    "from selenium import webdriver\n",
    "from selenium.webdriver.chrome.options import Options\n",
    "from selenium.webdriver.common.by import By\n",
    "import html2text\n",
    "import markdown\n",
    "from selenium.webdriver.chrome.webdriver import WebDriver"
   ]
  },
  {
   "cell_type": "code",
   "execution_count": 2,
   "metadata": {},
   "outputs": [],
   "source": [
    "options = Options()\n",
    "options.headless=True\n",
    "options.add_argument(\"--window-size=1920,1200\")"
   ]
  },
  {
   "cell_type": "code",
   "execution_count": 3,
   "metadata": {},
   "outputs": [],
   "source": [
    "driver = webdriver.Chrome(options=options)"
   ]
  },
  {
   "cell_type": "code",
   "execution_count": 4,
   "metadata": {},
   "outputs": [],
   "source": [
    "driver.get(\"https://sotaysv.phenikaa-uni.edu.vn/home\")"
   ]
  },
  {
   "cell_type": "code",
   "execution_count": 161,
   "metadata": {},
   "outputs": [],
   "source": [
    "MAIN_XPATH = \"/html/body/div/div/div/div/main\"\n",
    "HAS_SUBPAGE = ['https://sotaysv.phenikaa-uni.edu.vn/home/1.-cac-nganh-dao-tao-chuong-trinh-dao-tao-cua-truong',\n",
    "               'https://sotaysv.phenikaa-uni.edu.vn/home/1.-hoat-dong-dao-tao-tai-truong-dai-hoc-phenikaa',\n",
    "               'https://sotaysv.phenikaa-uni.edu.vn/home/2.-hoat-dong-cong-tac-sinh-vien',\n",
    "               'https://sotaysv.phenikaa-uni.edu.vn/home/3.-hoat-dong-trung-tam-tu-van-ho-tro-va-doi-moi-sang-tao-sinh-vien',\n",
    "               'https://sotaysv.phenikaa-uni.edu.vn/home/6.-cac-chuong-trinh-trao-doi-sinh-vien-quoc-te',\n",
    "               'https://sotaysv.phenikaa-uni.edu.vn/home/8.-bao-hiem-y-te',\n",
    "               'https://sotaysv.phenikaa-uni.edu.vn/home/10.-he-thong-cong-nghe-thong-tin',\n",
    "               'https://sotaysv.phenikaa-uni.edu.vn/home/12.-bo-quy-tac-ung-xu-van-hoa-hoc-duong-truong-dai-hoc-phenikaa',\n",
    "               'https://sotaysv.phenikaa-uni.edu.vn/home/2.-goc-ban-be-va-tinh-yeu',\n",
    "               'https://sotaysv.phenikaa-uni.edu.vn/home/5.-hoat-dong-ngoai-khoa']"
   ]
  },
  {
   "cell_type": "code",
   "execution_count": 5,
   "metadata": {},
   "outputs": [],
   "source": [
    "content = driver.find_element(By.XPATH, \"/html/body/div/div/aside/div\")"
   ]
  },
  {
   "cell_type": "code",
   "execution_count": 6,
   "metadata": {},
   "outputs": [
    {
     "data": {
      "text/plain": [
       "'👋\\nMục Lục\\n🌏\\nGIỚI THIỆU CHUNG\\n💡\\n1. CÁC NGÀNH ĐÀO TẠO / CHƯƠNG TRÌNH ĐÀO TẠO CỦA TRƯỜNG\\n✨\\n2. CÁC ĐƠN VỊ, BỘ PHẬN TRONG TRƯỜNG\\nPHẦN I: QUY CHẾ - QUY ĐỊNH\\n📪\\n1. Hoạt động đào tạo tại trường đại học Phenikaa\\n⛷️\\n2. Hoạt động công tác sinh viên\\n⛷️\\n3. Hoạt động Trung tâm Tư vấn, Hỗ trợ và Đổi mới sáng tạo sinh viên\\n📚\\n4. Trung tâm Thông tin - Thư viện\\n💹\\n5. Các quy định về thanh toán học phí\\n🌏\\n6. Các chương trình trao đổi sinh viên quốc tế\\n🏢\\n7. Ký túc xá sinh viên\\n⚕️\\n8. Bảo hiểm y tế\\n🧬\\n9. Nghiên cứu khoa học sinh viên\\n🖥️\\n10. Hệ thống Công nghệ thông tin\\n📃\\n11. Khiếu nại, tố cáo, kiến nghị phản ánh.\\n👥\\n12. Bộ Quy tắc ứng xử văn hóa học đường Trường Đại học Phenikaa\\nPHẦN II: CÔNG TÁC PHÁT TRIỂN ĐẢNG VÀ PHONG TRÀO SINH VIÊN\\n🇻🇳\\n1. Đảng ủy trường\\n🌲\\n2. Đoàn thanh niên trường\\n🧑\\u200d🎓\\n3. Phong trào sinh viên 5 tốt.\\n🎓\\n4. Hoạt động Câu lạc bộ sinh viên.\\n🏆\\n5. Phong trào thể dục thể thao.\\n🏅\\n6. Các danh hiệu thi đua.\\nPHẦN III: 1001 CÁCH ĐỂ THÀNH CÔNG KHI HỌC ĐẠI HỌC\\n🤔\\n1. Làm thế nào để học tập thành công ở trường Đại học?\\n💕\\n2. Góc bạn bè và tình yêu\\n🤾\\n3. Ăn và chơi\\n🚌\\n4. Di chuyển\\n🏕️\\n5. Hoạt động ngoại khoá\\n📖\\nNhật kí sinh viên\\nPowered by GitBook'"
      ]
     },
     "execution_count": 6,
     "metadata": {},
     "output_type": "execute_result"
    }
   ],
   "source": [
    "content.text"
   ]
  },
  {
   "cell_type": "code",
   "execution_count": 7,
   "metadata": {},
   "outputs": [
    {
     "data": {
      "text/plain": [
       "['👋',\n",
       " 'Mục Lục',\n",
       " '🌏',\n",
       " 'GIỚI THIỆU CHUNG',\n",
       " '💡',\n",
       " '1. CÁC NGÀNH ĐÀO TẠO / CHƯƠNG TRÌNH ĐÀO TẠO CỦA TRƯỜNG',\n",
       " '✨',\n",
       " '2. CÁC ĐƠN VỊ, BỘ PHẬN TRONG TRƯỜNG',\n",
       " 'PHẦN I: QUY CHẾ - QUY ĐỊNH',\n",
       " '📪',\n",
       " '1. Hoạt động đào tạo tại trường đại học Phenikaa',\n",
       " '⛷️',\n",
       " '2. Hoạt động công tác sinh viên',\n",
       " '⛷️',\n",
       " '3. Hoạt động Trung tâm Tư vấn, Hỗ trợ và Đổi mới sáng tạo sinh viên',\n",
       " '📚',\n",
       " '4. Trung tâm Thông tin - Thư viện',\n",
       " '💹',\n",
       " '5. Các quy định về thanh toán học phí',\n",
       " '🌏',\n",
       " '6. Các chương trình trao đổi sinh viên quốc tế',\n",
       " '🏢',\n",
       " '7. Ký túc xá sinh viên',\n",
       " '⚕️',\n",
       " '8. Bảo hiểm y tế',\n",
       " '🧬',\n",
       " '9. Nghiên cứu khoa học sinh viên',\n",
       " '🖥️',\n",
       " '10. Hệ thống Công nghệ thông tin',\n",
       " '📃',\n",
       " '11. Khiếu nại, tố cáo, kiến nghị phản ánh.',\n",
       " '👥',\n",
       " '12. Bộ Quy tắc ứng xử văn hóa học đường Trường Đại học Phenikaa',\n",
       " 'PHẦN II: CÔNG TÁC PHÁT TRIỂN ĐẢNG VÀ PHONG TRÀO SINH VIÊN',\n",
       " '🇻🇳',\n",
       " '1. Đảng ủy trường',\n",
       " '🌲',\n",
       " '2. Đoàn thanh niên trường',\n",
       " '🧑\\u200d🎓',\n",
       " '3. Phong trào sinh viên 5 tốt.',\n",
       " '🎓',\n",
       " '4. Hoạt động Câu lạc bộ sinh viên.',\n",
       " '🏆',\n",
       " '5. Phong trào thể dục thể thao.',\n",
       " '🏅',\n",
       " '6. Các danh hiệu thi đua.',\n",
       " 'PHẦN III: 1001 CÁCH ĐỂ THÀNH CÔNG KHI HỌC ĐẠI HỌC',\n",
       " '🤔',\n",
       " '1. Làm thế nào để học tập thành công ở trường Đại học?',\n",
       " '💕',\n",
       " '2. Góc bạn bè và tình yêu',\n",
       " '🤾',\n",
       " '3. Ăn và chơi',\n",
       " '🚌',\n",
       " '4. Di chuyển',\n",
       " '🏕️',\n",
       " '5. Hoạt động ngoại khoá',\n",
       " '📖',\n",
       " 'Nhật kí sinh viên',\n",
       " 'Powered by GitBook']"
      ]
     },
     "execution_count": 7,
     "metadata": {},
     "output_type": "execute_result"
    }
   ],
   "source": [
    "table_of_contents = content.text\n",
    "table_of_contents = table_of_contents.split('\\n')\n",
    "table_of_contents"
   ]
  },
  {
   "cell_type": "code",
   "execution_count": 8,
   "metadata": {},
   "outputs": [],
   "source": [
    "import re\n",
    "def remove_icons(data):\n",
    "    \"\"\"\n",
    "    Removes emoji or icon elements from a list by checking if the element is non-alphanumeric.\n",
    "\n",
    "    Args:\n",
    "        data (list): A list of strings.\n",
    "\n",
    "    Returns:\n",
    "        list: A list with elements that are not icons or emojis.\n",
    "    \"\"\"\n",
    "    # Regex to check for alphanumeric characters\n",
    "    alphanumeric_pattern = re.compile(r'^[\\w\\s.,!?/:;-]+$')\n",
    "\n",
    "\n",
    "    return [item for item in data if alphanumeric_pattern.match(item)]\n"
   ]
  },
  {
   "cell_type": "code",
   "execution_count": 9,
   "metadata": {},
   "outputs": [],
   "source": [
    "table_of_contents = remove_icons(data=table_of_contents)"
   ]
  },
  {
   "cell_type": "code",
   "execution_count": 10,
   "metadata": {},
   "outputs": [
    {
     "data": {
      "text/plain": [
       "['Mục Lục',\n",
       " 'GIỚI THIỆU CHUNG',\n",
       " '1. CÁC NGÀNH ĐÀO TẠO / CHƯƠNG TRÌNH ĐÀO TẠO CỦA TRƯỜNG',\n",
       " '2. CÁC ĐƠN VỊ, BỘ PHẬN TRONG TRƯỜNG',\n",
       " 'PHẦN I: QUY CHẾ - QUY ĐỊNH',\n",
       " '1. Hoạt động đào tạo tại trường đại học Phenikaa',\n",
       " '2. Hoạt động công tác sinh viên',\n",
       " '3. Hoạt động Trung tâm Tư vấn, Hỗ trợ và Đổi mới sáng tạo sinh viên',\n",
       " '4. Trung tâm Thông tin - Thư viện',\n",
       " '5. Các quy định về thanh toán học phí',\n",
       " '6. Các chương trình trao đổi sinh viên quốc tế',\n",
       " '7. Ký túc xá sinh viên',\n",
       " '8. Bảo hiểm y tế',\n",
       " '9. Nghiên cứu khoa học sinh viên',\n",
       " '10. Hệ thống Công nghệ thông tin',\n",
       " '11. Khiếu nại, tố cáo, kiến nghị phản ánh.',\n",
       " '12. Bộ Quy tắc ứng xử văn hóa học đường Trường Đại học Phenikaa',\n",
       " 'PHẦN II: CÔNG TÁC PHÁT TRIỂN ĐẢNG VÀ PHONG TRÀO SINH VIÊN',\n",
       " '1. Đảng ủy trường',\n",
       " '2. Đoàn thanh niên trường',\n",
       " '3. Phong trào sinh viên 5 tốt.',\n",
       " '4. Hoạt động Câu lạc bộ sinh viên.',\n",
       " '5. Phong trào thể dục thể thao.',\n",
       " '6. Các danh hiệu thi đua.',\n",
       " 'PHẦN III: 1001 CÁCH ĐỂ THÀNH CÔNG KHI HỌC ĐẠI HỌC',\n",
       " '1. Làm thế nào để học tập thành công ở trường Đại học?',\n",
       " '2. Góc bạn bè và tình yêu',\n",
       " '3. Ăn và chơi',\n",
       " '4. Di chuyển',\n",
       " '5. Hoạt động ngoại khoá',\n",
       " 'Nhật kí sinh viên',\n",
       " 'Powered by GitBook']"
      ]
     },
     "execution_count": 10,
     "metadata": {},
     "output_type": "execute_result"
    }
   ],
   "source": [
    "table_of_contents"
   ]
  },
  {
   "cell_type": "code",
   "execution_count": 11,
   "metadata": {},
   "outputs": [
    {
     "data": {
      "text/plain": [
       "['GIỚI THIỆU CHUNG',\n",
       " '1. CÁC NGÀNH ĐÀO TẠO / CHƯƠNG TRÌNH ĐÀO TẠO CỦA TRƯỜNG',\n",
       " '2. CÁC ĐƠN VỊ, BỘ PHẬN TRONG TRƯỜNG',\n",
       " 'PHẦN I: QUY CHẾ - QUY ĐỊNH',\n",
       " '1. Hoạt động đào tạo tại trường đại học Phenikaa',\n",
       " '2. Hoạt động công tác sinh viên',\n",
       " '3. Hoạt động Trung tâm Tư vấn, Hỗ trợ và Đổi mới sáng tạo sinh viên',\n",
       " '4. Trung tâm Thông tin - Thư viện',\n",
       " '5. Các quy định về thanh toán học phí',\n",
       " '6. Các chương trình trao đổi sinh viên quốc tế',\n",
       " '7. Ký túc xá sinh viên',\n",
       " '8. Bảo hiểm y tế',\n",
       " '9. Nghiên cứu khoa học sinh viên',\n",
       " '10. Hệ thống Công nghệ thông tin',\n",
       " '11. Khiếu nại, tố cáo, kiến nghị phản ánh.',\n",
       " '12. Bộ Quy tắc ứng xử văn hóa học đường Trường Đại học Phenikaa',\n",
       " 'PHẦN II: CÔNG TÁC PHÁT TRIỂN ĐẢNG VÀ PHONG TRÀO SINH VIÊN',\n",
       " '1. Đảng ủy trường',\n",
       " '2. Đoàn thanh niên trường',\n",
       " '3. Phong trào sinh viên 5 tốt.',\n",
       " '4. Hoạt động Câu lạc bộ sinh viên.',\n",
       " '5. Phong trào thể dục thể thao.',\n",
       " '6. Các danh hiệu thi đua.',\n",
       " 'PHẦN III: 1001 CÁCH ĐỂ THÀNH CÔNG KHI HỌC ĐẠI HỌC',\n",
       " '1. Làm thế nào để học tập thành công ở trường Đại học?',\n",
       " '2. Góc bạn bè và tình yêu',\n",
       " '3. Ăn và chơi',\n",
       " '4. Di chuyển',\n",
       " '5. Hoạt động ngoại khoá',\n",
       " 'Nhật kí sinh viên']"
      ]
     },
     "execution_count": 11,
     "metadata": {},
     "output_type": "execute_result"
    }
   ],
   "source": [
    "modified_table_of_contents = table_of_contents[1:-1]\n",
    "modified_table_of_contents"
   ]
  },
  {
   "cell_type": "code",
   "execution_count": 12,
   "metadata": {},
   "outputs": [
    {
     "data": {
      "text/plain": [
       "30"
      ]
     },
     "execution_count": 12,
     "metadata": {},
     "output_type": "execute_result"
    }
   ],
   "source": [
    "len(modified_table_of_contents)"
   ]
  },
  {
   "cell_type": "code",
   "execution_count": 13,
   "metadata": {},
   "outputs": [],
   "source": [
    "json_data = {}"
   ]
  },
  {
   "cell_type": "code",
   "execution_count": 14,
   "metadata": {},
   "outputs": [],
   "source": [
    "original_xpath = \"/html/body/div/div/div/div/main/div\""
   ]
  },
  {
   "cell_type": "code",
   "execution_count": 40,
   "metadata": {},
   "outputs": [],
   "source": [
    "driver.get(\"https://sotaysv.phenikaa-uni.edu.vn/home\")"
   ]
  },
  {
   "cell_type": "code",
   "execution_count": 41,
   "metadata": {},
   "outputs": [
    {
     "data": {
      "text/plain": [
       "[<selenium.webdriver.remote.webelement.WebElement (session=\"7a4bcf49a2f40efd85c40c931967a106\", element=\"f.5D3FB2419BF18276C83885059157598B.d.94C7A390729808D8E5A91FE7CC1BE653.e.2908\")>,\n",
       " <selenium.webdriver.remote.webelement.WebElement (session=\"7a4bcf49a2f40efd85c40c931967a106\", element=\"f.5D3FB2419BF18276C83885059157598B.d.94C7A390729808D8E5A91FE7CC1BE653.e.2909\")>,\n",
       " <selenium.webdriver.remote.webelement.WebElement (session=\"7a4bcf49a2f40efd85c40c931967a106\", element=\"f.5D3FB2419BF18276C83885059157598B.d.94C7A390729808D8E5A91FE7CC1BE653.e.2910\")>,\n",
       " <selenium.webdriver.remote.webelement.WebElement (session=\"7a4bcf49a2f40efd85c40c931967a106\", element=\"f.5D3FB2419BF18276C83885059157598B.d.94C7A390729808D8E5A91FE7CC1BE653.e.2912\")>,\n",
       " <selenium.webdriver.remote.webelement.WebElement (session=\"7a4bcf49a2f40efd85c40c931967a106\", element=\"f.5D3FB2419BF18276C83885059157598B.d.94C7A390729808D8E5A91FE7CC1BE653.e.2913\")>,\n",
       " <selenium.webdriver.remote.webelement.WebElement (session=\"7a4bcf49a2f40efd85c40c931967a106\", element=\"f.5D3FB2419BF18276C83885059157598B.d.94C7A390729808D8E5A91FE7CC1BE653.e.2916\")>,\n",
       " <selenium.webdriver.remote.webelement.WebElement (session=\"7a4bcf49a2f40efd85c40c931967a106\", element=\"f.5D3FB2419BF18276C83885059157598B.d.94C7A390729808D8E5A91FE7CC1BE653.e.2917\")>,\n",
       " <selenium.webdriver.remote.webelement.WebElement (session=\"7a4bcf49a2f40efd85c40c931967a106\", element=\"f.5D3FB2419BF18276C83885059157598B.d.94C7A390729808D8E5A91FE7CC1BE653.e.2918\")>,\n",
       " <selenium.webdriver.remote.webelement.WebElement (session=\"7a4bcf49a2f40efd85c40c931967a106\", element=\"f.5D3FB2419BF18276C83885059157598B.d.94C7A390729808D8E5A91FE7CC1BE653.e.2919\")>,\n",
       " <selenium.webdriver.remote.webelement.WebElement (session=\"7a4bcf49a2f40efd85c40c931967a106\", element=\"f.5D3FB2419BF18276C83885059157598B.d.94C7A390729808D8E5A91FE7CC1BE653.e.2920\")>,\n",
       " <selenium.webdriver.remote.webelement.WebElement (session=\"7a4bcf49a2f40efd85c40c931967a106\", element=\"f.5D3FB2419BF18276C83885059157598B.d.94C7A390729808D8E5A91FE7CC1BE653.e.2921\")>,\n",
       " <selenium.webdriver.remote.webelement.WebElement (session=\"7a4bcf49a2f40efd85c40c931967a106\", element=\"f.5D3FB2419BF18276C83885059157598B.d.94C7A390729808D8E5A91FE7CC1BE653.e.2922\")>,\n",
       " <selenium.webdriver.remote.webelement.WebElement (session=\"7a4bcf49a2f40efd85c40c931967a106\", element=\"f.5D3FB2419BF18276C83885059157598B.d.94C7A390729808D8E5A91FE7CC1BE653.e.2923\")>,\n",
       " <selenium.webdriver.remote.webelement.WebElement (session=\"7a4bcf49a2f40efd85c40c931967a106\", element=\"f.5D3FB2419BF18276C83885059157598B.d.94C7A390729808D8E5A91FE7CC1BE653.e.2924\")>,\n",
       " <selenium.webdriver.remote.webelement.WebElement (session=\"7a4bcf49a2f40efd85c40c931967a106\", element=\"f.5D3FB2419BF18276C83885059157598B.d.94C7A390729808D8E5A91FE7CC1BE653.e.2926\")>,\n",
       " <selenium.webdriver.remote.webelement.WebElement (session=\"7a4bcf49a2f40efd85c40c931967a106\", element=\"f.5D3FB2419BF18276C83885059157598B.d.94C7A390729808D8E5A91FE7CC1BE653.e.2927\")>,\n",
       " <selenium.webdriver.remote.webelement.WebElement (session=\"7a4bcf49a2f40efd85c40c931967a106\", element=\"f.5D3FB2419BF18276C83885059157598B.d.94C7A390729808D8E5A91FE7CC1BE653.e.2929\")>,\n",
       " <selenium.webdriver.remote.webelement.WebElement (session=\"7a4bcf49a2f40efd85c40c931967a106\", element=\"f.5D3FB2419BF18276C83885059157598B.d.94C7A390729808D8E5A91FE7CC1BE653.e.2930\")>,\n",
       " <selenium.webdriver.remote.webelement.WebElement (session=\"7a4bcf49a2f40efd85c40c931967a106\", element=\"f.5D3FB2419BF18276C83885059157598B.d.94C7A390729808D8E5A91FE7CC1BE653.e.2931\")>,\n",
       " <selenium.webdriver.remote.webelement.WebElement (session=\"7a4bcf49a2f40efd85c40c931967a106\", element=\"f.5D3FB2419BF18276C83885059157598B.d.94C7A390729808D8E5A91FE7CC1BE653.e.2932\")>,\n",
       " <selenium.webdriver.remote.webelement.WebElement (session=\"7a4bcf49a2f40efd85c40c931967a106\", element=\"f.5D3FB2419BF18276C83885059157598B.d.94C7A390729808D8E5A91FE7CC1BE653.e.2933\")>,\n",
       " <selenium.webdriver.remote.webelement.WebElement (session=\"7a4bcf49a2f40efd85c40c931967a106\", element=\"f.5D3FB2419BF18276C83885059157598B.d.94C7A390729808D8E5A91FE7CC1BE653.e.2934\")>]"
      ]
     },
     "execution_count": 41,
     "metadata": {},
     "output_type": "execute_result"
    }
   ],
   "source": [
    "home_page_hrefs = driver.find_elements(By.XPATH, original_xpath+\"/a\")\n",
    "home_page_hrefs"
   ]
  },
  {
   "cell_type": "code",
   "execution_count": 42,
   "metadata": {},
   "outputs": [
    {
     "name": "stdout",
     "output_type": "stream",
     "text": [
      "https://sotaysv.phenikaa-uni.edu.vn/home/gioi-thieu-chung\n",
      "https://sotaysv.phenikaa-uni.edu.vn/home/1.-cac-nganh-dao-tao-chuong-trinh-dao-tao-cua-truong\n",
      "https://sotaysv.phenikaa-uni.edu.vn/home/2.-cac-don-vi-bo-phan-trong-truong\n",
      "https://sotaysv.phenikaa-uni.edu.vn/home/1.-hoat-dong-dao-tao-tai-truong-dai-hoc-phenikaa\n",
      "https://sotaysv.phenikaa-uni.edu.vn/home/2.-hoat-dong-cong-tac-sinh-vien\n",
      "https://sotaysv.phenikaa-uni.edu.vn/home/4.-trung-tam-thong-tin-thu-vien\n",
      "https://sotaysv.phenikaa-uni.edu.vn/home/5.-cac-quy-dinh-ve-thanh-toan-hoc-phi\n",
      "https://sotaysv.phenikaa-uni.edu.vn/home/6.-cac-chuong-trinh-trao-doi-sinh-vien-quoc-te\n",
      "https://sotaysv.phenikaa-uni.edu.vn/home/7.-ky-tuc-xa-sinh-vien\n",
      "https://sotaysv.phenikaa-uni.edu.vn/home/8.-bao-hiem-y-te\n",
      "https://sotaysv.phenikaa-uni.edu.vn/home/9.-nghien-cuu-khoa-hoc-sinh-vien\n",
      "https://sotaysv.phenikaa-uni.edu.vn/home/10.-he-thong-cong-nghe-thong-tin\n",
      "https://sotaysv.phenikaa-uni.edu.vn/home/11.-khieu-nai-to-cao-kien-nghi-phan-anh.\n",
      "https://sotaysv.phenikaa-uni.edu.vn/home/12.-bo-quy-tac-ung-xu-van-hoa-hoc-duong-truong-dai-hoc-phenikaa\n",
      "https://sotaysv.phenikaa-uni.edu.vn/home/1.-dang-uy-truong\n",
      "https://sotaysv.phenikaa-uni.edu.vn/home/2.-doan-thanh-nien-truong\n",
      "https://sotaysv.phenikaa-uni.edu.vn/home/1.-lam-the-nao-de-hoc-tap-thanh-cong-o-truong-dai-hoc\n",
      "https://sotaysv.phenikaa-uni.edu.vn/home/2.-goc-ban-be-va-tinh-yeu\n",
      "https://sotaysv.phenikaa-uni.edu.vn/home/3.-an-va-choi\n",
      "https://sotaysv.phenikaa-uni.edu.vn/home/4.-di-chuyen\n",
      "https://sotaysv.phenikaa-uni.edu.vn/home/5.-hoat-dong-ngoai-khoa\n",
      "https://sotaysv.phenikaa-uni.edu.vn/home/nhat-ki-sinh-vien\n"
     ]
    }
   ],
   "source": [
    "hrefs = []\n",
    "for href in home_page_hrefs:\n",
    "    print(href.get_attribute(\"href\"))\n",
    "    hrefs.append(href.get_attribute(\"href\"))"
   ]
  },
  {
   "cell_type": "code",
   "execution_count": 28,
   "metadata": {},
   "outputs": [
    {
     "data": {
      "text/plain": [
       "['gioi-thieu-chung',\n",
       " '1.-cac-nganh-dao-tao-chuong-trinh-dao-tao-cua-truong',\n",
       " '2.-cac-don-vi-bo-phan-trong-truong',\n",
       " '1.-hoat-dong-dao-tao-tai-truong-dai-hoc-phenikaa',\n",
       " '2.-hoat-dong-cong-tac-sinh-vien',\n",
       " '4.-trung-tam-thong-tin-thu-vien',\n",
       " '5.-cac-quy-dinh-ve-thanh-toan-hoc-phi',\n",
       " '6.-cac-chuong-trinh-trao-doi-sinh-vien-quoc-te',\n",
       " '7.-ky-tuc-xa-sinh-vien',\n",
       " '8.-bao-hiem-y-te',\n",
       " '9.-nghien-cuu-khoa-hoc-sinh-vien',\n",
       " '10.-he-thong-cong-nghe-thong-tin',\n",
       " '11.-khieu-nai-to-cao-kien-nghi-phan-anh.',\n",
       " '12.-bo-quy-tac-ung-xu-van-hoa-hoc-duong-truong-dai-hoc-phenikaa',\n",
       " '1.-dang-uy-truong',\n",
       " '2.-doan-thanh-nien-truong',\n",
       " '1.-lam-the-nao-de-hoc-tap-thanh-cong-o-truong-dai-hoc',\n",
       " '2.-goc-ban-be-va-tinh-yeu',\n",
       " '3.-an-va-choi',\n",
       " '4.-di-chuyen',\n",
       " '5.-hoat-dong-ngoai-khoa',\n",
       " 'nhat-ki-sinh-vien']"
      ]
     },
     "execution_count": 28,
     "metadata": {},
     "output_type": "execute_result"
    }
   ],
   "source": [
    "href2title = [href.split(\"/\")[-1] for href in hrefs]\n",
    "href2title"
   ]
  },
  {
   "cell_type": "code",
   "execution_count": 29,
   "metadata": {},
   "outputs": [],
   "source": [
    "main_tag = \"/html/body/div/div/div/div/main\""
   ]
  },
  {
   "cell_type": "code",
   "execution_count": 30,
   "metadata": {},
   "outputs": [],
   "source": [
    "driver.get(hrefs[0])"
   ]
  },
  {
   "cell_type": "markdown",
   "metadata": {},
   "source": [
    "# Util functions"
   ]
  },
  {
   "cell_type": "code",
   "execution_count": 31,
   "metadata": {},
   "outputs": [],
   "source": [
    "def remove_emojis(text: str):\n",
    "    # Emoji regex pattern\n",
    "    emoji_pattern = re.compile(\n",
    "        \"[\\U0001F600-\\U0001F64F\"  # Emoticons\n",
    "        \"\\U0001F300-\\U0001F5FF\"  # Symbols & Pictographs\n",
    "        \"\\U0001F680-\\U0001F6FF\"  # Transport & Map Symbols\n",
    "        \"\\U0001F1E0-\\U0001F1FF\"  # Flags\n",
    "        \"\\U00002700-\\U000027BF\"  # Dingbats\n",
    "        \"\\U0001F900-\\U0001F9FF\"  # Supplemental Symbols & Pictographs\n",
    "        \"\\U0001FA70-\\U0001FAFF\"  # Symbols & Pictographs Extended-A\n",
    "        \"\\U00002500-\\U00002BEF\"  # Chinese characters\n",
    "        \"]+\", \n",
    "        flags=re.UNICODE\n",
    "    )\n",
    "    \n",
    "    # text = re.sub(r\"\\n\", \"\", text)\n",
    "    return emoji_pattern.sub(\"\", text)\n"
   ]
  },
  {
   "cell_type": "code",
   "execution_count": 32,
   "metadata": {},
   "outputs": [],
   "source": [
    "def convert_html_to_markdown(html_code: str):\n",
    "    markdown_converter = html2text.HTML2Text()\n",
    "    markdown_converter.ignore_links = True \n",
    "    markdown_converter.ignore_images = True\n",
    "    markdown_converter.body_width = 0\n",
    "    markdown_text = markdown_converter.handle(html_code)\n",
    "    # print(markdown_text)\n",
    "    # alphanumeric_pattern = re.compile(r'^[\\w\\s.,!?/:;-]+$')\n",
    "    markdown_text = remove_emojis(markdown_text)\n",
    "    return markdown_text\n"
   ]
  },
  {
   "cell_type": "code",
   "execution_count": 33,
   "metadata": {},
   "outputs": [],
   "source": [
    "def overwrite_to_file(text):\n",
    "    with open(\"sotay.md\", \"a+\") as f:\n",
    "        f.write(text+\"\\n\")\n",
    "        f.close()"
   ]
  },
  {
   "cell_type": "code",
   "execution_count": 34,
   "metadata": {},
   "outputs": [],
   "source": [
    "def get_html_code(driver: WebDriver, href: str):\n",
    "    driver.get(href)\n",
    "    main = driver.find_elements(By.XPATH,main_tag+\"/*\")\n",
    "    for children in main:\n",
    "        print(children.text)\n",
    "    # print(main)\n",
    "    # main = main.find_elements(By.XPATH, main)\n",
    "    # print(main)\n",
    "    main = main[:-2]\n",
    "    html_code = \"\"\n",
    "    print(len(main))\n",
    "    for element in main:\n",
    "        html = element.get_attribute(\"innerHTML\")\n",
    "        html_code += (html+\"\\n\")\n",
    "    return html_code"
   ]
  },
  {
   "cell_type": "code",
   "execution_count": 142,
   "metadata": {},
   "outputs": [],
   "source": [
    "def get_markdown_from_a_element(element):\n",
    "    html_code = element.get_attribute(\"innerHTML\")\n",
    "    html_text = convert_html_to_markdown(html_code)\n",
    "    return html_text"
   ]
  },
  {
   "cell_type": "code",
   "execution_count": 165,
   "metadata": {},
   "outputs": [],
   "source": [
    "def saving_markdown_from_a_subpage(elements: list, heading: int):\n",
    "    div_text = \"#\" * (heading-1)\n",
    "    for element in elements:\n",
    "        html_code = element.get_attribute(\"innerHTML\")\n",
    "        html_text = convert_html_to_markdown(html_code)\n",
    "        # print(html_text)\n",
    "        div_text += (html_text + \"\\n\")\n",
    "    overwrite_to_file(div_text)"
   ]
  },
  {
   "cell_type": "code",
   "execution_count": 166,
   "metadata": {},
   "outputs": [],
   "source": [
    "def saving_markdown_from_multiple_hrefs(hrefs: list, heading: int):\n",
    "    for href in hrefs:\n",
    "        driver = WebDriver(options=options)\n",
    "        driver.get(href)\n",
    "        elements = driver.find_elements(By.XPATH, MAIN_XPATH + \"/*\")\n",
    "        elements = elements[:2]\n",
    "        saving_markdown_from_a_subpage(elements, heading)\n",
    "        driver.quit()"
   ]
  },
  {
   "cell_type": "code",
   "execution_count": 167,
   "metadata": {},
   "outputs": [],
   "source": [
    "def get_multiple_hrefs_from_a_element(element):\n",
    "    main_hrefs = element.find_elements(By.XPATH, \"./a\")\n",
    "    main_hrefs = [href.get_attribute(\"href\") for href in main_hrefs]\n",
    "    return main_hrefs"
   ]
  },
  {
   "cell_type": "code",
   "execution_count": 183,
   "metadata": {},
   "outputs": [],
   "source": [
    "def saving_markdown_from_a_page(href):\n",
    "    driver = WebDriver(options=options)\n",
    "    driver.get(href)\n",
    "    elements = driver.find_elements(By.XPATH, MAIN_XPATH + \"/*\")\n",
    "    elements = elements[:2]\n",
    "    print(f\"HAS {len(elements)} elements\")\n",
    "    if href not in HAS_SUBPAGE:\n",
    "        print(f\"{href} hasn't subpages!\")\n",
    "        saving_markdown_from_a_subpage(elements, heading=2)\n",
    "    else:\n",
    "        print(f\"{href} has subpages!\")\n",
    "        markdown_text = \"#\" + get_markdown_from_a_element(elements[0])\n",
    "        overwrite_to_file(markdown_text)\n",
    "\n",
    "        main_hrefs = get_multiple_hrefs_from_a_element(elements[1])\n",
    "        saving_markdown_from_multiple_hrefs(hrefs=main_hrefs, heading=3)\n",
    "        driver.quit()"
   ]
  },
  {
   "cell_type": "markdown",
   "metadata": {},
   "source": [
    "# Crawl Giới thiệu chung"
   ]
  },
  {
   "cell_type": "code",
   "execution_count": 183,
   "metadata": {},
   "outputs": [],
   "source": [
    "driver.get(hrefs[0])"
   ]
  },
  {
   "cell_type": "code",
   "execution_count": 185,
   "metadata": {},
   "outputs": [
    {
     "data": {
      "text/plain": [
       "[<selenium.webdriver.remote.webelement.WebElement (session=\"f45e94fc9e62e9785bc666dab9d160de\", element=\"f.84DA83C187D45DC496C2748D7ED92B24.d.896F931EA256E985A374A02808916141.e.9048\")>,\n",
       " <selenium.webdriver.remote.webelement.WebElement (session=\"f45e94fc9e62e9785bc666dab9d160de\", element=\"f.84DA83C187D45DC496C2748D7ED92B24.d.896F931EA256E985A374A02808916141.e.9049\")>]"
      ]
     },
     "execution_count": 185,
     "metadata": {},
     "output_type": "execute_result"
    }
   ],
   "source": [
    "elements = driver.find_elements(By.XPATH, main_tag+\"/*\")\n",
    "elements = elements[:-2]\n",
    "elements"
   ]
  },
  {
   "cell_type": "code",
   "execution_count": 197,
   "metadata": {},
   "outputs": [
    {
     "data": {
      "text/plain": [
       "'# GIỚI THIỆU CHUNG\\n'"
      ]
     },
     "execution_count": 197,
     "metadata": {},
     "output_type": "execute_result"
    }
   ],
   "source": [
    "header_html = elements[0].get_attribute(\"innerHTML\")\n",
    "header_text = convert_html_to_markdown(html_code=header_html, header=True)\n",
    "header_text"
   ]
  },
  {
   "cell_type": "code",
   "execution_count": 198,
   "metadata": {},
   "outputs": [],
   "source": [
    "overwrite_to_file(header_text)"
   ]
  },
  {
   "cell_type": "code",
   "execution_count": 199,
   "metadata": {},
   "outputs": [
    {
     "name": "stdout",
     "output_type": "stream",
     "text": [
      "1 Được thành lập ngày 10/10/2007 theo Quyết định số 1368/QĐ-TTg, đến ngày 21/11/2018, Trường chính thức mang tên Trường Đại học Phenikaa theo Quyết định số 1609/QĐ-TTg của Thủ tướng Chính phủ. Với sự đầu tư của Tập đoàn Phenikaa, Trường Đại học Phenikaa đã và đang đang phát triển theo định hướng Đổi mới sáng tạo và nghiên cứu trong hệ sinh thái Phenikaa với ba trụ cột là **Doanh nghiệp - Giáo dục - Nghiên cứu khoa học.**\n",
      "\n",
      "1 **TẦM NHÌN**\n",
      "\n",
      "1 Trường Đại học Phenikaa phấn đấu trở thành:\n",
      "\n",
      "1 * Đại học định hướng đổi mới sáng tạo, xuất sắc trong đào tạo, nghiên cứu, chuyển giao, khởi nghiệp và hướng nghiệp; nơi đánh thức và hiện thực hóa tiềm năng; luôn gắn kết chặt chẽ với nhu cầu phát triển và tạo ra giá trị mới cho cộng đồng;\n",
      "\n",
      "* Top 100 trường đại học tốt nhất châu Á vào năm 2035.\n",
      "\n",
      "1 **SỨ MỆNH**\n",
      "\n",
      "1 * Đào tạo nguồn nhân lực chất lượng cao cho xã hội dựa trên nền tảng đổi mới sáng tạo, nghiên cứu khoa học, phát triển công nghệ và thực hành;\n",
      "\n",
      "* Tạo môi trường nghiên cứu chuyên nghiệp và tự do sáng tạo để đánh thức và phát huy tối đa sở trường của mỗi người, tạo ra những ảnh hưởng đột phá trong khoa học công nghệ và phát triển kinh tế xã hội.\n",
      "\n",
      "1 **GIÁ TRỊ CỐT LÕI**\n",
      "\n",
      "1 * Trải nghiệm - Xuất sắc - Tự hào\n",
      "\n",
      "1 **TRIẾT LÝ GIÁO DỤC**\n",
      "\n",
      "1 * Tôn trọng - Sáng tạo - Phản biện\n",
      "\n"
     ]
    }
   ],
   "source": [
    "div_text = \"\"\"\"\"\"\n",
    "sub_tags = elements[1].find_elements(By.XPATH, \"*\")\n",
    "for sub_tag in sub_tags:\n",
    "    html_code = sub_tag.get_attribute(\"innerHTML\")\n",
    "    html_text = convert_html_to_markdown(html_code, False)\n",
    "    print(1, html_text)\n",
    "    div_text += (html_text + \"\\n\")\n",
    "overwrite_to_file(div_text)"
   ]
  },
  {
   "cell_type": "markdown",
   "metadata": {},
   "source": [
    "## Các ngành đào tạo / Chương trình đào tạo"
   ]
  },
  {
   "cell_type": "code",
   "execution_count": 200,
   "metadata": {},
   "outputs": [],
   "source": [
    "overwrite_to_file(\"\")"
   ]
  },
  {
   "cell_type": "code",
   "execution_count": 201,
   "metadata": {},
   "outputs": [],
   "source": [
    "driver.get(hrefs[1])"
   ]
  },
  {
   "cell_type": "code",
   "execution_count": 202,
   "metadata": {},
   "outputs": [
    {
     "data": {
      "text/plain": [
       "3"
      ]
     },
     "execution_count": 202,
     "metadata": {},
     "output_type": "execute_result"
    }
   ],
   "source": [
    "elements = driver.find_elements(By.XPATH, main_tag+\"/*\")\n",
    "len(elements)"
   ]
  },
  {
   "cell_type": "code",
   "execution_count": 207,
   "metadata": {},
   "outputs": [],
   "source": [
    "header_html = elements[0].get_attribute(\"innerHTML\")\n",
    "header_text = convert_html_to_markdown(header_html)\n",
    "header_text = \"#\" + header_text"
   ]
  },
  {
   "cell_type": "code",
   "execution_count": 209,
   "metadata": {},
   "outputs": [
    {
     "data": {
      "text/plain": [
       "'## 1\\\\. CÁC NGÀNH ĐÀO TẠO / CHƯƠNG TRÌNH ĐÀO TẠO CỦA TRƯỜNG\\n'"
      ]
     },
     "execution_count": 209,
     "metadata": {},
     "output_type": "execute_result"
    }
   ],
   "source": [
    "header_text"
   ]
  },
  {
   "cell_type": "code",
   "execution_count": 208,
   "metadata": {},
   "outputs": [],
   "source": [
    "overwrite_to_file(header_text)"
   ]
  },
  {
   "cell_type": "code",
   "execution_count": 218,
   "metadata": {},
   "outputs": [
    {
     "name": "stdout",
     "output_type": "stream",
     "text": [
      "### ️1\\. KHỐI NGÀNH KĨ THUẬT VÀ CÔNG NGHỆ\n",
      " https://sotaysv.phenikaa-uni.edu.vn/home/1.-cac-nganh-dao-tao-chuong-trinh-dao-tao-cua-truong/1.-khoi-nganh-ki-thuat-va-cong-nghe\n",
      "### ️2\\. KHỐI NGÀNH KINH TẾ - KINH DOANH\n",
      " https://sotaysv.phenikaa-uni.edu.vn/home/1.-cac-nganh-dao-tao-chuong-trinh-dao-tao-cua-truong/2.-khoi-nganh-kinh-te-kinh-doanh\n",
      "### 3\\. KHỐI NGÀNH KHOA HỌC SỨC KHỎE\n",
      " https://sotaysv.phenikaa-uni.edu.vn/home/1.-cac-nganh-dao-tao-chuong-trinh-dao-tao-cua-truong/3.-khoi-nganh-khoa-hoc-suc-kh-e\n",
      "### 4\\. NHÓM NGÀNH KHOA HỌC XÃ HỘI VÀ NHÂN VĂN\n",
      " https://sotaysv.phenikaa-uni.edu.vn/home/1.-cac-nganh-dao-tao-chuong-trinh-dao-tao-cua-truong/4.-nhom-nganh-khoa-hoc-xa-hoi-va-nhan-van\n",
      "### 5\\. CHƯƠNG TRÌNH ĐÀO TẠO QUỐC TẾ\n",
      " https://sotaysv.phenikaa-uni.edu.vn/home/1.-cac-nganh-dao-tao-chuong-trinh-dao-tao-cua-truong/5.-chuong-trinh-dao-tao-quoc-te\n"
     ]
    }
   ],
   "source": [
    "sub_elements = elements[1].find_elements(By.XPATH, \"./a\")\n",
    "for sub_element in sub_elements:\n",
    "    # a_html = sub_element.get_attribute(\"innerHTML\")\n",
    "    # a_text = \"### \" + convert_html_to_markdown(a_html)\n",
    "    # print(a_text, sub_element.get_attribute(\"href\"))\n",
    "    href = driver.get(sub_element.get_attribute(\"href\"))\n",
    "    "
   ]
  },
  {
   "cell_type": "code",
   "execution_count": 219,
   "metadata": {},
   "outputs": [],
   "source": [
    "driver.get(hrefs[0])"
   ]
  },
  {
   "cell_type": "code",
   "execution_count": 222,
   "metadata": {},
   "outputs": [],
   "source": [
    "main = driver.find_element(By.XPATH, main_tag)"
   ]
  },
  {
   "cell_type": "code",
   "execution_count": 223,
   "metadata": {},
   "outputs": [
    {
     "data": {
      "text/plain": [
       "'# GIỚI THIỆU CHUNG\\n\\nĐược thành lập ngày 10/10/2007 theo Quyết định số 1368/QĐ-TTg, đến ngày 21/11/2018, Trường chính thức mang tên Trường Đại học Phenikaa theo Quyết định số 1609/QĐ-TTg của Thủ tướng Chính phủ. Với sự đầu tư của Tập đoàn Phenikaa, Trường Đại học Phenikaa đã và đang đang phát triển theo định hướng Đổi mới sáng tạo và nghiên cứu trong hệ sinh thái Phenikaa với ba trụ cột là **Doanh nghiệp - Giáo dục - Nghiên cứu khoa học.**\\n\\n**TẦM NHÌN**\\n\\nTrường Đại học Phenikaa phấn đấu trở thành:\\n\\n  * Đại học định hướng đổi mới sáng tạo, xuất sắc trong đào tạo, nghiên cứu, chuyển giao, khởi nghiệp và hướng nghiệp; nơi đánh thức và hiện thực hóa tiềm năng; luôn gắn kết chặt chẽ với nhu cầu phát triển và tạo ra giá trị mới cho cộng đồng;\\n\\n  * Top 100 trường đại học tốt nhất châu Á vào năm 2035.\\n\\n\\n\\n\\n**SỨ MỆNH**\\n\\n  * Đào tạo nguồn nhân lực chất lượng cao cho xã hội dựa trên nền tảng đổi mới sáng tạo, nghiên cứu khoa học, phát triển công nghệ và thực hành;\\n\\n  * Tạo môi trường nghiên cứu chuyên nghiệp và tự do sáng tạo để đánh thức và phát huy tối đa sở trường của mỗi người, tạo ra những ảnh hưởng đột phá trong khoa học công nghệ và phát triển kinh tế xã hội.\\n\\n\\n\\n\\n**GIÁ TRỊ CỐT LÕI**\\n\\n  * Trải nghiệm - Xuất sắc - Tự hào\\n\\n\\n\\n\\n**TRIẾT LÝ GIÁO DỤC**\\n\\n  * Tôn trọng - Sáng tạo - Phản biện\\n\\n\\n\\n\\nPreviousMục LụcNext1\\\\. CÁC NGÀNH ĐÀO TẠO / CHƯƠNG TRÌNH ĐÀO TẠO CỦA TRƯỜNG\\n\\nLast updated 2 months ago\\n'"
      ]
     },
     "execution_count": 223,
     "metadata": {},
     "output_type": "execute_result"
    }
   ],
   "source": [
    "html_code = main.get_attribute(\"innerHTML\")\n",
    "html_text = convert_html_to_markdown(html_code)\n",
    "html_text"
   ]
  },
  {
   "cell_type": "code",
   "execution_count": 224,
   "metadata": {},
   "outputs": [],
   "source": [
    "overwrite_to_file(html_text)"
   ]
  },
  {
   "cell_type": "code",
   "execution_count": 47,
   "metadata": {},
   "outputs": [],
   "source": [
    "driver.get(hrefs[1])"
   ]
  },
  {
   "cell_type": "code",
   "execution_count": 49,
   "metadata": {},
   "outputs": [],
   "source": [
    "main_xpath = \"/html/body/div/div/div/div/main\""
   ]
  },
  {
   "cell_type": "code",
   "execution_count": 50,
   "metadata": {},
   "outputs": [
    {
     "data": {
      "text/plain": [
       "'# 1\\\\. CÁC NGÀNH ĐÀO TẠO / CHƯƠNG TRÌNH ĐÀO TẠO CỦA TRƯỜNG\\n'"
      ]
     },
     "execution_count": 50,
     "metadata": {},
     "output_type": "execute_result"
    }
   ],
   "source": [
    "header = driver.find_element(By.XPATH, main_xpath+\"/header\")\n",
    "header_html = header.get_attribute(\"innerHTML\")\n",
    "header_text = convert_html_to_markdown(header_html)\n",
    "header_text"
   ]
  },
  {
   "cell_type": "code",
   "execution_count": 51,
   "metadata": {},
   "outputs": [],
   "source": [
    "overwrite_to_file(header_text)"
   ]
  },
  {
   "cell_type": "code",
   "execution_count": 45,
   "metadata": {},
   "outputs": [
    {
     "data": {
      "text/plain": [
       "['https://sotaysv.phenikaa-uni.edu.vn/home/1.-cac-nganh-dao-tao-chuong-trinh-dao-tao-cua-truong/1.-khoi-nganh-ki-thuat-va-cong-nghe',\n",
       " 'https://sotaysv.phenikaa-uni.edu.vn/home/1.-cac-nganh-dao-tao-chuong-trinh-dao-tao-cua-truong/2.-khoi-nganh-kinh-te-kinh-doanh',\n",
       " 'https://sotaysv.phenikaa-uni.edu.vn/home/1.-cac-nganh-dao-tao-chuong-trinh-dao-tao-cua-truong/3.-khoi-nganh-khoa-hoc-suc-kh-e',\n",
       " 'https://sotaysv.phenikaa-uni.edu.vn/home/1.-cac-nganh-dao-tao-chuong-trinh-dao-tao-cua-truong/4.-nhom-nganh-khoa-hoc-xa-hoi-va-nhan-van',\n",
       " 'https://sotaysv.phenikaa-uni.edu.vn/home/1.-cac-nganh-dao-tao-chuong-trinh-dao-tao-cua-truong/5.-chuong-trinh-dao-tao-quoc-te']"
      ]
     },
     "execution_count": 45,
     "metadata": {},
     "output_type": "execute_result"
    }
   ],
   "source": [
    "main_hrefs = driver.find_elements(By.XPATH, original_xpath+\"/a\")\n",
    "main_hrefs = [a_tag.get_attribute(\"href\") for a_tag in main_hrefs]\n",
    "main_hrefs"
   ]
  },
  {
   "cell_type": "markdown",
   "metadata": {},
   "source": [
    "## 1. Khối ngành kỹ thuật công nghệ"
   ]
  },
  {
   "cell_type": "code",
   "execution_count": 52,
   "metadata": {},
   "outputs": [],
   "source": [
    "driver.get(main_hrefs[0])"
   ]
  },
  {
   "cell_type": "code",
   "execution_count": 55,
   "metadata": {},
   "outputs": [
    {
     "data": {
      "text/plain": [
       "[<selenium.webdriver.remote.webelement.WebElement (session=\"7a4bcf49a2f40efd85c40c931967a106\", element=\"f.5D3FB2419BF18276C83885059157598B.d.4936BB549628C81824AF9094BEEF8108.e.5090\")>,\n",
       " <selenium.webdriver.remote.webelement.WebElement (session=\"7a4bcf49a2f40efd85c40c931967a106\", element=\"f.5D3FB2419BF18276C83885059157598B.d.4936BB549628C81824AF9094BEEF8108.e.5093\")>]"
      ]
     },
     "execution_count": 55,
     "metadata": {},
     "output_type": "execute_result"
    }
   ],
   "source": [
    "elements = driver.find_elements(By.XPATH, main_xpath + \"/*\")\n",
    "elements = elements[:-2]\n",
    "elements"
   ]
  },
  {
   "cell_type": "code",
   "execution_count": 69,
   "metadata": {},
   "outputs": [
    {
     "data": {
      "text/plain": [
       "'/html/body/div/div/div/div/main'"
      ]
     },
     "execution_count": 69,
     "metadata": {},
     "output_type": "execute_result"
    }
   ],
   "source": [
    "main_xpath"
   ]
  },
  {
   "cell_type": "code",
   "execution_count": 76,
   "metadata": {},
   "outputs": [
    {
     "name": "stdout",
     "output_type": "stream",
     "text": [
      "https://sotaysv.phenikaa-uni.edu.vn/home/1.-cac-nganh-dao-tao-chuong-trinh-dao-tao-cua-truong/1.-khoi-nganh-ki-thuat-va-cong-nghe\n",
      "[<selenium.webdriver.remote.webelement.WebElement (session=\"a607c68b77118aa28d59dec2ff0ac17c\", element=\"f.4025CB3BE2FC68CC8655C7FC0B65A718.d.5AE1BFAB3D45F6506E391DC4B140370F.e.20\")>, <selenium.webdriver.remote.webelement.WebElement (session=\"a607c68b77118aa28d59dec2ff0ac17c\", element=\"f.4025CB3BE2FC68CC8655C7FC0B65A718.d.5AE1BFAB3D45F6506E391DC4B140370F.e.21\")>]\n",
      "# ️1\\. KHỐI NGÀNH KĨ THUẬT VÀ CÔNG NGHỆ\n",
      "\n",
      "  * Công nghệ sinh học\n",
      "\n",
      "  * An toàn thông tin\n",
      "\n",
      "  * Chip bán dẫn và công nghệ đóng gói\n",
      "\n",
      "  * Kỹ thuật hóa học\n",
      "\n",
      "  * Kỹ thuật điều khiển và tự động hóa\n",
      "\n",
      "  * Kỹ thuật y sinh (Điện tử y sinh)\n",
      "\n",
      "  * Kỹ thuật điện tử - viễn thông (Hệ thống nhúng thông minh và IoT)\n",
      "\n",
      "  * Kỹ thuật robot và trí tuệ nhân tạo(Đào tạo song ngữ Việt - Anh)\n",
      "\n",
      "  * Công nghệ thông tin\n",
      "\n",
      "  * Kỹ thuật phần mềm (Một số môn chuyên ngành học bằng Tiếng Anh)*\n",
      "\n",
      "  * Công nghệ thông tin Việt Nhật\n",
      "\n",
      "  * Trí tuệ nhân tạo\n",
      "\n",
      "  * Trí tuệ nhân tạo và Khoa học dữ liệu\n",
      "\n",
      "  * Thiết kế vi mạch bán dẫn\n",
      "\n",
      "  * Tài năng khoa học máy tính\n",
      "\n",
      "  * Kỹ thuật cơ điện tử\n",
      "\n",
      "  * Vật liệu tiên tiến và Công nghệ Nano\n",
      "\n",
      "  * Vật liệu thông minh và Trí tuệ nhân tạo\n",
      "\n",
      "  * Kỹ thuật ô tô\n",
      "\n",
      "  * Cơ điện tử ô tô\n",
      "\n",
      "  * Vật lý tài năng\n",
      "\n",
      "  * Công nghệ số liên ngành\n",
      "\n",
      "  * Ký thuật cơ khí\n",
      "\n",
      "\n",
      "\n",
      "\n",
      "https://sotaysv.phenikaa-uni.edu.vn/home/1.-cac-nganh-dao-tao-chuong-trinh-dao-tao-cua-truong/2.-khoi-nganh-kinh-te-kinh-doanh\n",
      "[<selenium.webdriver.remote.webelement.WebElement (session=\"6e463b346296490ff2bd6c2eb7229b45\", element=\"f.111618D97D8D5C577A677F32C919B9BE.d.25875EC054F43AB89227FE70741BD29E.e.29\")>, <selenium.webdriver.remote.webelement.WebElement (session=\"6e463b346296490ff2bd6c2eb7229b45\", element=\"f.111618D97D8D5C577A677F32C919B9BE.d.25875EC054F43AB89227FE70741BD29E.e.30\")>]\n",
      "# ️2\\. KHỐI NGÀNH KINH TẾ - KINH DOANH\n",
      "\n",
      "  * Quản trị kinh doanh\n",
      "\n",
      "  * Kế toán\n",
      "\n",
      "  * Tài chính - Ngân hàng\n",
      "\n",
      "  * Quản trị nhân lực\n",
      "\n",
      "  * Luật kinh tế\n",
      "\n",
      "  * Kinh doanh quốc tế (các môn chuyên ngành học bằng tiếng Anh)\n",
      "\n",
      "  * Kinh doanh số\n",
      "\n",
      "  * Kinh tế số\n",
      "\n",
      "  * Logistic số\n",
      "\n",
      "  * Logistic và Quản lý chuỗi cung ứng (một số môn chuyên ngành học bằng tiếng Anh)*\n",
      "\n",
      "  * Marketing\n",
      "\n",
      "  * Công nghệ tài chính\n",
      "\n",
      "  * Công nghệ Marketing\n",
      "\n",
      "  * Thương mại điện tử\n",
      "\n",
      "\n",
      "\n",
      "\n",
      "https://sotaysv.phenikaa-uni.edu.vn/home/1.-cac-nganh-dao-tao-chuong-trinh-dao-tao-cua-truong/3.-khoi-nganh-khoa-hoc-suc-kh-e\n",
      "[<selenium.webdriver.remote.webelement.WebElement (session=\"f61b751f28aade7901c0506448abbd6e\", element=\"f.95B454AFE8247BD726D8B63A4CCD89B5.d.6993F22D26B48096DA6DACD338F5D6CC.e.23\")>, <selenium.webdriver.remote.webelement.WebElement (session=\"f61b751f28aade7901c0506448abbd6e\", element=\"f.95B454AFE8247BD726D8B63A4CCD89B5.d.6993F22D26B48096DA6DACD338F5D6CC.e.24\")>]\n",
      "# 3\\. KHỐI NGÀNH KHOA HỌC SỨC KHỎE\n",
      "\n",
      "  * Điều dưỡng\n",
      "\n",
      "  * Dược học\n",
      "\n",
      "  * Hộ sinh\n",
      "\n",
      "  * Kỹ thuật phục hồi chức năng\n",
      "\n",
      "  * Ký thuật hình ảnh y học\n",
      "\n",
      "  * Kỹ thuật xét nghiệm y học\n",
      "\n",
      "  * Y khoa\n",
      "\n",
      "  * Y học cổ truyền\n",
      "\n",
      "  * Y tế công cộng\n",
      "\n",
      "  * Răng – Hàm – Mặt\n",
      "\n",
      "  * Khoa học y sinh\n",
      "\n",
      "  * Quản lý bệnh viện\n",
      "\n",
      "\n",
      "\n",
      "\n",
      "https://sotaysv.phenikaa-uni.edu.vn/home/1.-cac-nganh-dao-tao-chuong-trinh-dao-tao-cua-truong/4.-nhom-nganh-khoa-hoc-xa-hoi-va-nhan-van\n",
      "[<selenium.webdriver.remote.webelement.WebElement (session=\"4f2a2abd47d958a3c641ac6c16fe35d1\", element=\"f.429FF31578E1C6E3296BC44EDBCECF1D.d.F9CCA66BA2C2008516381406CBE222A7.e.23\")>, <selenium.webdriver.remote.webelement.WebElement (session=\"4f2a2abd47d958a3c641ac6c16fe35d1\", element=\"f.429FF31578E1C6E3296BC44EDBCECF1D.d.F9CCA66BA2C2008516381406CBE222A7.e.24\")>]\n",
      "# 4\\. NHÓM NGÀNH KHOA HỌC XÃ HỘI VÀ NHÂN VĂN\n",
      "\n",
      "  * Ngôn ngữ Anh\n",
      "\n",
      "  * Ngôn ngữ Trung Quốc\n",
      "\n",
      "  * Ngôn ngữ Hàn Quốc\n",
      "\n",
      "  * Ngôn ngữ Nhật Bản\n",
      "\n",
      "  * Ngôn ngữ Pháp\n",
      "\n",
      "  * Đông Phương học\n",
      "\n",
      "  * Du lịch (định hướng Quản trị du lịch)\n",
      "\n",
      "  * Kinh doanh du lịch số\n",
      "\n",
      "  * Hướng dẫn Du lịch quốc tế\n",
      "\n",
      "  * Quản trị khách sạn\n",
      "\n",
      "\n",
      "\n",
      "\n",
      "https://sotaysv.phenikaa-uni.edu.vn/home/1.-cac-nganh-dao-tao-chuong-trinh-dao-tao-cua-truong/5.-chuong-trinh-dao-tao-quoc-te\n",
      "[<selenium.webdriver.remote.webelement.WebElement (session=\"bf0151a8389a0ed2944bec719d616d05\", element=\"f.4C2D783A6FCF9B1AA8C942FBDFEC8EEA.d.A64DA820504CF97500A69ED7608E2A64.e.28\")>, <selenium.webdriver.remote.webelement.WebElement (session=\"bf0151a8389a0ed2944bec719d616d05\", element=\"f.4C2D783A6FCF9B1AA8C942FBDFEC8EEA.d.A64DA820504CF97500A69ED7608E2A64.e.29\")>]\n",
      "# 5\\. CHƯƠNG TRÌNH ĐÀO TẠO QUỐC TẾ\n",
      "\n",
      "  * **UNIVERSITY OF THE WEST OF ENGLAND, BRISTOL (UWE BRISTOL)**\n",
      "\n",
      "\n",
      "\n",
      "\n",
      "\\- Quản trị kinh doanh\n",
      "\n",
      "\\- Kinh doanh và Marketing\n",
      "\n",
      "\\- Quản trị sự kiện\n",
      "\n",
      "\\- Kế toán và Tài chính\n",
      "\n",
      "\\- Khoa học máy tính (trí tuệ nhân tạo)\n",
      "\n",
      "\\- Khoa học máy tính (phát triển thiết bị thông minh)\n",
      "\n",
      "\\- Công nghệ thông tin\n",
      "\n",
      "  * **YEUNGNAM UNIVERSITY**\n",
      "\n",
      "\n",
      "\n",
      "\n",
      "\\- Biên phiên dịch tiếng Hàn Du lịch và Thương mại\n",
      "\n",
      "\\- Biên phiên dịch tiếng Hàn Khoa học và Công nghệ\n",
      "\n",
      "  * **CAPITAL NORMAL UNIVERSITY**\n",
      "\n",
      "\n",
      "\n",
      "\n",
      "\\- Ngôn ngữ Trung Quốc\n",
      "\n"
     ]
    }
   ],
   "source": [
    "for main_href in main_hrefs:\n",
    "    driver = WebDriver(options=options)\n",
    "    driver.get(main_href)\n",
    "    print(driver.current_url)\n",
    "    elements = driver.find_elements(By.XPATH, main_xpath + \"/*\")\n",
    "    elements = elements[:2]\n",
    "    print(elements)\n",
    "    div_text = \"\"\"\"\"\"\n",
    "    for element in elements:\n",
    "        # print(element.tag_name)\n",
    "        html_code = element.get_attribute(\"innerHTML\")\n",
    "        html_text = convert_html_to_markdown(html_code)\n",
    "        print(html_text)\n",
    "        div_text += (html_text + \"\\n\")\n",
    "    overwrite_to_file(div_text)\n",
    "    driver.quit()"
   ]
  },
  {
   "cell_type": "markdown",
   "metadata": {},
   "source": [
    "## 2. Các đơn vị, bộ phận trong trường"
   ]
  },
  {
   "cell_type": "code",
   "execution_count": 85,
   "metadata": {},
   "outputs": [
    {
     "name": "stdout",
     "output_type": "stream",
     "text": [
      "https://sotaysv.phenikaa-uni.edu.vn/home/2.-cac-don-vi-bo-phan-trong-truong\n"
     ]
    }
   ],
   "source": [
    "driver = WebDriver(options=options)\n",
    "driver.get(hrefs[2])\n",
    "print(driver.current_url)"
   ]
  },
  {
   "cell_type": "code",
   "execution_count": 86,
   "metadata": {},
   "outputs": [
    {
     "data": {
      "text/plain": [
       "[<selenium.webdriver.remote.webelement.WebElement (session=\"188eed2ac9bdc748ff988e18c12dfdd7\", element=\"f.92CD828F43074E435A056F74A7E8BB71.d.F863405B6C93C197BA0AAB0F4C36CBB6.e.50\")>,\n",
       " <selenium.webdriver.remote.webelement.WebElement (session=\"188eed2ac9bdc748ff988e18c12dfdd7\", element=\"f.92CD828F43074E435A056F74A7E8BB71.d.F863405B6C93C197BA0AAB0F4C36CBB6.e.51\")>]"
      ]
     },
     "execution_count": 86,
     "metadata": {},
     "output_type": "execute_result"
    }
   ],
   "source": [
    "elements = driver.find_elements(By.XPATH, main_xpath + \"/*\")\n",
    "elements = elements[:2]\n",
    "elements"
   ]
  },
  {
   "cell_type": "code",
   "execution_count": 84,
   "metadata": {},
   "outputs": [],
   "source": [
    "driver.quit()"
   ]
  },
  {
   "cell_type": "code",
   "execution_count": 90,
   "metadata": {},
   "outputs": [
    {
     "name": "stdout",
     "output_type": "stream",
     "text": [
      "# 2\\. CÁC ĐƠN VỊ, BỘ PHẬN TRONG TRƯỜNG\n",
      "\n",
      "**Bảng 1. Danh mục các Phòng, Ban, Trung tâm**\n",
      "\n",
      "TT| Khối/đơn vị| Địa chỉ| Email| Điện thoại  \n",
      "---|---|---|---|---  \n",
      "| Khối phòng ban, trung tâm|  |  |   \n",
      "1| Phòng Hành chính tổng hợp| Tầng 1 – Nhà A10| hcth@phenikaa-uni.edu.vn|   \n",
      "| Bộ phận Văn thư |  Tầng 1 – Nhà A10| vanthu@phenikaa-uni.edu.vn| 02462918118/103  \n",
      "| Bộ phận Y tế| Phòng 104 - Nhà A|  manh.nguyenhung@phenikaa-uni.edu.vn| 02462918118/125  \n",
      "| Ban quản lý Ký túc xá| Phòng 105 - Nhà A|  bqlktx@phenikaa-uni.edu.vn| 02462918118/115  \n",
      "2| Phòng Quản trị -Thiết bị| Tầng 1 – Nhà A10| qttb@phenikaa-uni.edu.vn|   \n",
      "3| Phòng Tổ chức Nhân sự| Tầng 3 – Nhà A9| hr@phenikaa-uni.edu.vntcns@phenikaa-uni.edu.vn| 02462918118/127  \n",
      "4| Phòng Tuyển sinh và Truyền thông| Tầng 1 – Nhà A9| truyenthong@phenikaa-uni.edu.vn tuyensinh@phenikaa-uni.edu.vn| 02462918118/101 02462918118/126  \n",
      "5| Phòng Đào tạo | Tầng 4 – Nhà A9| dtqlsv@phenikaa-uni.edu.vn | 02462918118/202  \n",
      "6| Phòng Tài chính - Kế toán| Tầng 3 – Nhà A9| tckt@phenikaa-uni.edu.vn| 02462918118/122  \n",
      "7| Phòng Khoa học Công nghệ| Tầng 3 – Nhà A10| khcn@phenikaa-uni.edu.vn| 02462918118/120  \n",
      "8| Phòng Hợp tác Đối Ngoại| Tầng 3 – Nhà A10| htdn@phenikaa-uni.edu.vn| 02462918118/105  \n",
      "9| Phòng Đảm bảo chất lượng và Khảo thí| Tầng 3 – Nhà A9| dbcl@phenikaa-uni.edu.vn | 02462918118/123  \n",
      "10| Phòng Thanh tra| Tầng 4 – Nhà A9| ttpc@phenikaa-uni.edu.vn| 02462918118  \n",
      "11| Phòng Công tác sinh viên| Tầng 3 – Nhà A9| ctsv@phenikaa-uni.edu.vn| 02462918118/138  \n",
      "12| Trung tâm Tư vấn, Hỗ trợ và Đổi mới sáng tạo sinh viên| Tầng 1 – Nhà A10| htsv@phenikaa-uni.edu.vn|   \n",
      "13| Trung tâm Công nghệ thông tin| Tầng 3 – Nhà A10| itc@phenikaa-uni.edu.vn | 02462918118/119  \n",
      "14| Trung tâm Thông tin Thư viện| Tầng 4 đến 6 – Nhà A10| library@phenikaa-uni.edu.vn | 02462918118/117  \n",
      "15| Trung tâm Ngoại ngữ, Tin học và Kỹ năng| Tầng 3 – Nhà A10| ttnnkn@phenikaa-uni.edu.vn|   \n",
      "16| Trung tâm đào tạo thiết kế vi mạch bán dẫn| Tầng 15 - Nhà A10| pstc@phenikaa-uni.edu.vn|   \n",
      "17| Trung tâm đào tạo và cung cấp dịch vụ theo nhu cầu xã hội| Tầng - Nhà A9| ppec@phenikaa-uni.edu.vn|   \n",
      "18| Trung tâm Đào tạo và Khảo thí tiếng Trung Quốc| Tầng - Nhà A9| clct@phenikaa-uni.edu.vn|   \n",
      "19| Trung tâm mô phỏng Y khoa| Tầng - Nhà A9|  |   \n",
      "20| Trung tâm nghiên cứu nguồn gen| Tầng 1 - Nhà B2| minh.nguyenhong@phenikaa-uni.edu.vn|   \n",
      "21| Trung tâm Nghiên cứu ứng dụng Y sinh| Tầng - Nhà A9| khanh.dovan@phenikaa-uni.edu.vn|   \n",
      "22| Trung tâm nghiên cứu Xã hội liên ngành|  |  |   \n",
      "23| Văn phòng Đảng đoàn| Tầng 4 – Nhà A10| dangbo@phenikaa-uni.edu.vn|   \n",
      "24| Văn phòng Đoàn Thanh niên| Phòng 101 – Nhà thi đấu đa năng C1| doanthanhnien@phenikaa-uni.edu.vn| 02462918118  \n",
      "25| Phòng pháp chế| Tòa A9| phapche@phenikaa-uni.edu.vn| 02462918118/140  \n",
      "26| Ban dự án| Tầng 1 – Nhà thi đấu đa năng C1|  |   \n",
      "  \n",
      "**Bảng 2. Danh sách các khoa, viện và trung tâm nghiên cứu**\n",
      "\n",
      "****\n",
      "\n",
      "TT| Các đơn vị| Họ và tên Lãnh đạo đơn vị| Chức vụ|  Email  \n",
      "---|---|---|---|---  \n",
      "1.| Khoa Khoa học Cơ bản\\- Đ/c: Tầng 24 – Nhà A9\\- Email: fs@phenikaa-uni.edu.vn | PGS.TS Đỗ Quang Trung| Trưởng Khoa | trung.doquang@phenikaa-uni.edu.vn  \n",
      "| | PGS.TS Nguyễn Tư| Phó Trưởng khoa| tu.nguyen@phenikaa-uni.edu.vn  \n",
      "2.| Khoa Kinh tế và Kinh Doanh\\- Đ/c: Tầng 8,9 – Nhà A9\\- Email: fbe@phenikaa-uni.edu.vn| PGS.TS Trần Thị Minh Hòa| Trưởng khoa | hoa.tranthiminh@phenikaa-uni.edu.vn  \n",
      "| | TS. Ngô Vi Dũng| Phó Trưởng khoa | dung.ngovi@phenikaa-uni.edu.vn  \n",
      "| | TS. Đào Trung Kiên| Phó Trưởng khoa | kien.daotrung@phenikaa-uni.edu.vn  \n",
      "3.| Khoa Tiếng Anh\\- Đ/c: Tầng 12A – Nhà A9\\- Email: fl@phenikaa-uni.edu.vn | PGS.TS Nguyễn Đăng Sửu| Trưởng khoa | suu.nguyendang@phenikaa-uni.edu.vn  \n",
      "| | PGS.TS Nguyễn Thị Thanh Hương| Phó Trưởng khoa | huong.nguyenthithanh@phenikaa-uni.edu.vn  \n",
      "|  | TS. Trần Thị Thanh Hương| Phó Trưởng khoa| huong.tranthithanh@phenikaa-uni.edu.vn  \n",
      "| | TS. Đặng Thị Hương Thảo| Phó Trưởng khoa| thao.dangthihuong@phenikaa-uni.edu.vn  \n",
      "| | TS. Đinh Thị Bảo Hương| Phó Trưởng khoa| hương.dinhthibaro@phenikaa-uni.edu.vn  \n",
      "4.| Khoa Du lịch\\- Đ/c: Tầng 14 – Nhà A9\\- Email: fts@phenikaa-uni.edu.vn| TS. Nguyễn Quang Vinh | Trưởng khoa | vinh.nguyenquang@phenikaa-uni.edu.vn  \n",
      "| | TS. Trần Đức Thành| Phó Trưởng khoa| thanh.tranduc@phenikaa-uni.edu.vn  \n",
      "5.| Khoa Tiếng Trung Quốc\\- Đ/c: Tầng 12 – Nhà A9\\- Email: fcl@phenikaa-uni.edu.vn| TS. Vũ Thị Hà| Trưởng khoa | ha.vuthi@phenikaa-uni.edu.vn  \n",
      "| | TS. Phạm Thúy Hồng| Phó Trưởng khoa| hong.phamthuy@phenikaa-uni.edu.vn  \n",
      "| | TS. Trần Thị Huệ| Phó Trưởng khoa| hue.tranthi@phenikaa-uni.edu.vn  \n",
      "6.| Khoa Tiếng Hàn Quốc\\- Đ/c: Tầng 11 – Nhà A9\\- Email: fkl@phenikaa-uni.edu.vn| TS. Nguyễn Lệ Thu| Trưởng khoa | thu.nguyenle@phenikaa-uni.edu.vn  \n",
      "| | ThS. Vũ Thanh Hải| Phó Trưởng khoa| hai.vuthanh@phenikaa-uni.edu.vn  \n",
      "7.| Khoa Tiếng Nhật Bản\\- Đ/c: Tầng 11 – Nhà A9\\- Email: fjl@phenikaa-uni.edu.vn| PGS.TS. Nguyễn Tô Chung| Trưởng khoa| chung.nguyento@phenikaa-uni.edu.vn  \n",
      "| | | |   \n",
      "| | TS. Đinh Thị Ngọc Linh| Phó Trưởng khoa| linh.dinhthingoc@phenikaa-uni.edu.vn  \n",
      "8.| Khoa tiếng Pháp\\- Đ/c: Tầng 12A – Nhà A9 -Email: ffl@phenikaa-uni.edu.vn| ThS. Nguyễn Thúy Yên| Phó Trưởng khoa Phụ trách| yen.nguyenthuy@phenikaa-uni.edu.vn  \n",
      "| | TS. Đặng Kim Hoa| Phó Trưởng khoa| hoa.dangkim@phenikaa-uni.edu.vn  \n",
      "9.| Khoa Đông Phương học\\- Đ/c: Tầng 11 – Nhà A9\\- Email: fos@phenikaa-uni.edu.vn| GS.TS Nguyễn Văn Khang| Trưởng khoa| khang.nguyenvan@phenikaa-uni.edu.vn  \n",
      "| | ThS. Ngô Thị Phương Thảo| Phó Trưởng khoa| thao.ngothiphuong@phenikaa-uni.edu.vn  \n",
      "10.| Khoa Điện - Điện tử\\- Đ/c: Tầng 16 – Nhà A9\\- Email: eee@phenikaa-uni.edu.vn | GS.TS Nguyễn Văn Hiếu | Trưởng khoa | hieu.nguyenvan@phenikaa-uni.edu.vn  \n",
      "|  | PGS.TS Trần Đức Tân | Phó Trưởng khoa| tan.tranduc@phenikaa-uni.edu.vn  \n",
      "| | TS. Lương Văn Sử| Phó Trưởng khoa| su.luongvan@phenikaa-uni.edu.vn  \n",
      "| | TS. Nguyễn Trọng Thắng| Phó Trưởng khoa| thang.nguyentrong@phenikaa-uni.edu.vn  \n",
      "11.| Khoa Khoa học và Kỹ thuật Vật liệu\\- Đ/c: Tầng 18 – Nhà A9\\- Email: mse@phenikaa-uni.edu.vn| PGS.TS Phương Đình Tâm | Trưởng khoa| tam.phuongdinh@phenikaa-uni.edu.vn  \n",
      "| | TS. Nguyễn Viết Hương| Phó Trưởng khoa | huong.nguyenviet@phenikaa-uni.edu.vn  \n",
      "12.| Khoa Công nghệ Sinh học, Hóa học & Kỹ thuật Môi trường\\- Đ/c: Tầng 18 – Nhà A9\\- Email: bcee@phenikaa-uni.edu.vn| TS. Đào Văn Dương| Trưởng khoa | duong.daovan@phenikaa-uni.edu.vn  \n",
      "| | TS. Vũ Ngọc Phan | Phó Trưởng khoa| phan.vungoc@phenikaa-uni.edu.vn  \n",
      "| | TS. Nguyễn Hồng Minh| Phó Trưởng khoa| minh.nguyenhong@phenikaa-uni.edu.vn  \n",
      "13.| Khoa Công nghệ Thông tin\\- Đ/c: Tầng 15 – Nhà A9\\- Email: cs@phenikaa-uni.edu.vn | PGS.TS Ngô Hồng Sơn | Trưởng khoa | son.ngohong@phenikaa-uni.edu.vn  \n",
      "| | TS. Mai Xuân Tráng| Phó Trưởng khoa | trang.maixuan@phenikaa-uni.edu.vn  \n",
      "| | TS. Phạm Ngọc Hưng| Phó Trưởng khoa | hung.phamngoc@phenikaa-uni.edu.vn  \n",
      "14.| Khoa Kỹ thuật Ô tô và Năng lượng\\- Đ/c: Tầng 17 – Nhà A9\\- Email: vee@phenikaa-uni.edu.vn| PGS.TS Trần Quang Vinh| Trưởng khoa | vinh.tranquang@phenikaa-uni.edu.vn  \n",
      "| | TS. Trần Anh Trung| Phó Trưởng khoa | trung.trananh@phenikaa-uni.edu.vn  \n",
      "| | TS. Nguyễn Trung Kiên| Phó Trưởng khoa | kien.nguyentrung@phenikaa-uni.edu.vn  \n",
      "15.| Khoa Công nghệ số liên nghành\\- Đ/c: Tầng 26 – Nhà A9-Email: f@phenikaa-uni.edu.vn| GS.TS. Nguyễn Văn Hiếu| Trưởng khoa | hieu.nguyenvan@phenikaa-uni.edu.vn  \n",
      "| | TS. Mai Xuân Tráng| Phó Trưởng khoa| trang.maixuan@phenikaa-uni.edu.vn  \n",
      "| | TS. Nguyễn Việt Anh| Phó Trưởng khoa| anh.nguyenviet@phenikaa-uni.edu.vn  \n",
      "16.| Khoa Cơ khí cơ điện tử\\- Đ/c: Tầng 17 – Nhà A9-Email: mem@phenikaa-uni.edu.vn| PGS.TS. Vũ Lê Huy| Trưởng khoa | huy.vule@phenikaa-uni.edu.vn  \n",
      "| | TS. Ngô Văn Lực | Phó Trưởng khoa| luc.ngovan@phenikaa-uni.edu.vn  \n",
      "17.| Khoa Dược\\- Đ/c: Tầng 22 – Nhà A9\\- Email: fp@phenikaa-uni.edu.vn| PGS.TS Nguyễn Văn Hùng | Trưởng Khoa| hung.nguyenvan2@phenikaa-uni.edu.vn  \n",
      "| | PGS.TS Dương Thị Ly Hương| Phó Trưởng khoa | huong.duongthily@phenikaa-uni.edu.vn  \n",
      "| | PGS.TS Nguyễn Quỳnh Hoa| Phó Trưởng khoa | hoa.nguyenquynh@phenikaa-uni.edu.vn  \n",
      "| | TS. Trần Tuấn Hiệp| Phó Trưởng khoa | hiep.trantuan@phenikaa-uni.edu.vn  \n",
      "18.| Khoa Điều dưỡng\\- Đ/c: Tầng 21 – Nhà A9\\- Email: fn@phenikaa-uni.edu.vn| TS. Phạm Thị Thu Hương | Phó trưởng khoa| huong.phamthithu@phenikaa-uni.edu.vn  \n",
      "| |  TS. Hoàng Thị Xuân Hương| Phó Trưởng khoa PT| huong.hoangthixuan@phenikaa-uni.edu.vn  \n",
      "19.| Khoa Kỹ thuật Y học\\- Đ/c: Tầng 22 – Nhà A9\\- Email: mt@phenikaa-uni.edu.vn| GS.TS Cao Minh Châu | Trưởng khoa | chau.caominh@phenikaa-uni.edu.vn  \n",
      "| | PGS.TS Bùi Thị Mai An  | Phó trưởng khoa| an.buithimai@phenikaa-uni.edu.vn  \n",
      "20.| Khoa Y\\- Đ/c: Tầng 23 – Nhà A9\\- Email: fmed@phenikaa-uni.edu.vn| PGS.TS. Nguyễn Thanh Hồi| Trưởng khoa| hoi.nguyenthanh@phenikaa-uni.edu.vn  \n",
      "| | PGS.TS.BS Trần Thị Minh Tâm| Phó Trưởng khoa| tam.tranthiminh@phenikaa-uni.edu.vn  \n",
      "| | TS. Nguyễn Thị Sim| Phó Trưởng khoa| sim.nguyenthi@phenikaa-uni.edu.vn  \n",
      "| | TS. Vũ Tiến Thăng| Phó Trưởng khoa| thang.vutien@phenikaa-uni.edu.vn  \n",
      "21.| Khoa Răng Hàm Mặt\\- Đ/c: Tầng 23 – Nhà A9\\- Email: dent@phenikaa-uni.edu.vn | PGS.TS Lê Văn Sơn| Trưởng khoa| son.levan@phenikaa-uni.edu.vn  \n",
      "| | TS. Nguyễn Giáo Hoàng| Phó Trưởng khoa| hoang.nguyengiao@phenikaa-uni.edu.vn  \n",
      "22.| Khoa Khoa học y sinh- Đ/c: Tầng 21 – Nhà A9-Email: bms@phenikaa-uni.edu.vn|  GS.TS. Lưu Ngọc Hoạt|  Trưởng Khoa|  hoat.luungoc@phenikaa-uni.edu.vn  \n",
      "| | TS. Trịnh Thị Trang Nhung| Phó Trưởng khoa| nhung.trinhthitrang@phenikaa-uni.edu.vn  \n",
      "| | PGS.TS. Trần Thị Minh Tâm| Phó Trưởng khoa| tam.tranthiminh@phenikaa-uni.edu.vn  \n",
      "23.| Khoa học y cổ truyền\\- Đ/c: Tầng 23 – Nhà A9\\- Email:| TS. Nguyễn Duy Tuân| Trưởng khoa| tuan.nguyenduy@phenikaa-uni.edu.vn  \n",
      "| | TS. Trần Anh Tuấn| Phó Trưởng khoa| tuan.trananh@phenikaa-uni.edu.vn  \n",
      "| | TS. Nguyễn Trường Nam| Phó Trưởng khoa| nam.nguyentruong@phenikaa-uni.edu.vn  \n",
      "24.| Khoa Y tế công cộng| PGS.TS. Nguyễn Hoàng Long| Trưởng khoa| long.nguyenhoang@phenikaa-uni.edu.vn  \n",
      "25.| Viện Đào tạo Quốc tế\\- Đ/c: Tầng 26 – Nhà A9\\- Email: sie@phenikaa-uni.edu.vn-ĐT: 02462918118/141| TS. Đồng Xuân Đảm| Viện trưởng| dam.dongxuan@phenikaa-uni.edu.vn  \n",
      "| | TS. Nguyễn Thái Hà| Phó Viện trưởng| ha.nguyenthai@phenikaa-uni.edu.vn  \n",
      "26.| Viện Nghiên cứu Nano\\- Đ/c: Tầng 25 – Nhà A9\\- Email: phena@phenikaa-uni.edu.vn| GS.TS Lê Anh Tuấn| Viện trưởng| tuan.leanh@phenikaa-uni.edu.vn  \n",
      "| | PGS.TS Trần Quang Huy| Phó Viện trưởng| huy.tranquang@phenikaa-uni.edu.vn  \n",
      "27.| Viện Nghiên cứu tiên tiến Phenikaa| GS.TS. Phùng Văn Đồng| Viện trưởng| dong.phungvan@phenikaa-uni.edu.vn  \n",
      "| | GS.TS. Trần Hoài Nam| Phó Viện trưởng| nam.tranhoai@phenikaa-uni.edu.vn\n",
      "\n"
     ]
    },
    {
     "data": {
      "text/plain": [
       "'## 2\\\\. CÁC ĐƠN VỊ, BỘ PHẬN TRONG TRƯỜNG\\n\\n**Bảng 1. Danh mục các Phòng, Ban, Trung tâm**\\n\\nTT| Khối/đơn vị| Địa chỉ| Email| Điện thoại  \\n---|---|---|---|---  \\n| Khối phòng ban, trung tâm|  |  |   \\n1| Phòng Hành chính tổng hợp| Tầng 1 – Nhà A10| hcth@phenikaa-uni.edu.vn|   \\n| Bộ phận Văn thư |  Tầng 1 – Nhà A10| vanthu@phenikaa-uni.edu.vn| 02462918118/103  \\n| Bộ phận Y tế| Phòng 104 - Nhà A|  manh.nguyenhung@phenikaa-uni.edu.vn| 02462918118/125  \\n| Ban quản lý Ký túc xá| Phòng 105 - Nhà A|  bqlktx@phenikaa-uni.edu.vn| 02462918118/115  \\n2| Phòng Quản trị -Thiết bị| Tầng 1 – Nhà A10| qttb@phenikaa-uni.edu.vn|   \\n3| Phòng Tổ chức Nhân sự| Tầng 3 – Nhà A9| hr@phenikaa-uni.edu.vntcns@phenikaa-uni.edu.vn| 02462918118/127  \\n4| Phòng Tuyển sinh và Truyền thông| Tầng 1 – Nhà A9| truyenthong@phenikaa-uni.edu.vn tuyensinh@phenikaa-uni.edu.vn| 02462918118/101 02462918118/126  \\n5| Phòng Đào tạo | Tầng 4 – Nhà A9| dtqlsv@phenikaa-uni.edu.vn | 02462918118/202  \\n6| Phòng Tài chính - Kế toán| Tầng 3 – Nhà A9| tckt@phenikaa-uni.edu.vn| 02462918118/122  \\n7| Phòng Khoa học Công nghệ| Tầng 3 – Nhà A10| khcn@phenikaa-uni.edu.vn| 02462918118/120  \\n8| Phòng Hợp tác Đối Ngoại| Tầng 3 – Nhà A10| htdn@phenikaa-uni.edu.vn| 02462918118/105  \\n9| Phòng Đảm bảo chất lượng và Khảo thí| Tầng 3 – Nhà A9| dbcl@phenikaa-uni.edu.vn | 02462918118/123  \\n10| Phòng Thanh tra| Tầng 4 – Nhà A9| ttpc@phenikaa-uni.edu.vn| 02462918118  \\n11| Phòng Công tác sinh viên| Tầng 3 – Nhà A9| ctsv@phenikaa-uni.edu.vn| 02462918118/138  \\n12| Trung tâm Tư vấn, Hỗ trợ và Đổi mới sáng tạo sinh viên| Tầng 1 – Nhà A10| htsv@phenikaa-uni.edu.vn|   \\n13| Trung tâm Công nghệ thông tin| Tầng 3 – Nhà A10| itc@phenikaa-uni.edu.vn | 02462918118/119  \\n14| Trung tâm Thông tin Thư viện| Tầng 4 đến 6 – Nhà A10| library@phenikaa-uni.edu.vn | 02462918118/117  \\n15| Trung tâm Ngoại ngữ, Tin học và Kỹ năng| Tầng 3 – Nhà A10| ttnnkn@phenikaa-uni.edu.vn|   \\n16| Trung tâm đào tạo thiết kế vi mạch bán dẫn| Tầng 15 - Nhà A10| pstc@phenikaa-uni.edu.vn|   \\n17| Trung tâm đào tạo và cung cấp dịch vụ theo nhu cầu xã hội| Tầng - Nhà A9| ppec@phenikaa-uni.edu.vn|   \\n18| Trung tâm Đào tạo và Khảo thí tiếng Trung Quốc| Tầng - Nhà A9| clct@phenikaa-uni.edu.vn|   \\n19| Trung tâm mô phỏng Y khoa| Tầng - Nhà A9|  |   \\n20| Trung tâm nghiên cứu nguồn gen| Tầng 1 - Nhà B2| minh.nguyenhong@phenikaa-uni.edu.vn|   \\n21| Trung tâm Nghiên cứu ứng dụng Y sinh| Tầng - Nhà A9| khanh.dovan@phenikaa-uni.edu.vn|   \\n22| Trung tâm nghiên cứu Xã hội liên ngành|  |  |   \\n23| Văn phòng Đảng đoàn| Tầng 4 – Nhà A10| dangbo@phenikaa-uni.edu.vn|   \\n24| Văn phòng Đoàn Thanh niên| Phòng 101 – Nhà thi đấu đa năng C1| doanthanhnien@phenikaa-uni.edu.vn| 02462918118  \\n25| Phòng pháp chế| Tòa A9| phapche@phenikaa-uni.edu.vn| 02462918118/140  \\n26| Ban dự án| Tầng 1 – Nhà thi đấu đa năng C1|  |   \\n  \\n**Bảng 2. Danh sách các khoa, viện và trung tâm nghiên cứu**\\n\\n****\\n\\nTT| Các đơn vị| Họ và tên Lãnh đạo đơn vị| Chức vụ|  Email  \\n---|---|---|---|---  \\n1.| Khoa Khoa học Cơ bản\\\\- Đ/c: Tầng 24 – Nhà A9\\\\- Email: fs@phenikaa-uni.edu.vn | PGS.TS Đỗ Quang Trung| Trưởng Khoa | trung.doquang@phenikaa-uni.edu.vn  \\n| | PGS.TS Nguyễn Tư| Phó Trưởng khoa| tu.nguyen@phenikaa-uni.edu.vn  \\n2.| Khoa Kinh tế và Kinh Doanh\\\\- Đ/c: Tầng 8,9 – Nhà A9\\\\- Email: fbe@phenikaa-uni.edu.vn| PGS.TS Trần Thị Minh Hòa| Trưởng khoa | hoa.tranthiminh@phenikaa-uni.edu.vn  \\n| | TS. Ngô Vi Dũng| Phó Trưởng khoa | dung.ngovi@phenikaa-uni.edu.vn  \\n| | TS. Đào Trung Kiên| Phó Trưởng khoa | kien.daotrung@phenikaa-uni.edu.vn  \\n3.| Khoa Tiếng Anh\\\\- Đ/c: Tầng 12A – Nhà A9\\\\- Email: fl@phenikaa-uni.edu.vn | PGS.TS Nguyễn Đăng Sửu| Trưởng khoa | suu.nguyendang@phenikaa-uni.edu.vn  \\n| | PGS.TS Nguyễn Thị Thanh Hương| Phó Trưởng khoa | huong.nguyenthithanh@phenikaa-uni.edu.vn  \\n|  | TS. Trần Thị Thanh Hương| Phó Trưởng khoa| huong.tranthithanh@phenikaa-uni.edu.vn  \\n| | TS. Đặng Thị Hương Thảo| Phó Trưởng khoa| thao.dangthihuong@phenikaa-uni.edu.vn  \\n| | TS. Đinh Thị Bảo Hương| Phó Trưởng khoa| hương.dinhthibaro@phenikaa-uni.edu.vn  \\n4.| Khoa Du lịch\\\\- Đ/c: Tầng 14 – Nhà A9\\\\- Email: fts@phenikaa-uni.edu.vn| TS. Nguyễn Quang Vinh | Trưởng khoa | vinh.nguyenquang@phenikaa-uni.edu.vn  \\n| | TS. Trần Đức Thành| Phó Trưởng khoa| thanh.tranduc@phenikaa-uni.edu.vn  \\n5.| Khoa Tiếng Trung Quốc\\\\- Đ/c: Tầng 12 – Nhà A9\\\\- Email: fcl@phenikaa-uni.edu.vn| TS. Vũ Thị Hà| Trưởng khoa | ha.vuthi@phenikaa-uni.edu.vn  \\n| | TS. Phạm Thúy Hồng| Phó Trưởng khoa| hong.phamthuy@phenikaa-uni.edu.vn  \\n| | TS. Trần Thị Huệ| Phó Trưởng khoa| hue.tranthi@phenikaa-uni.edu.vn  \\n6.| Khoa Tiếng Hàn Quốc\\\\- Đ/c: Tầng 11 – Nhà A9\\\\- Email: fkl@phenikaa-uni.edu.vn| TS. Nguyễn Lệ Thu| Trưởng khoa | thu.nguyenle@phenikaa-uni.edu.vn  \\n| | ThS. Vũ Thanh Hải| Phó Trưởng khoa| hai.vuthanh@phenikaa-uni.edu.vn  \\n7.| Khoa Tiếng Nhật Bản\\\\- Đ/c: Tầng 11 – Nhà A9\\\\- Email: fjl@phenikaa-uni.edu.vn| PGS.TS. Nguyễn Tô Chung| Trưởng khoa| chung.nguyento@phenikaa-uni.edu.vn  \\n| | | |   \\n| | TS. Đinh Thị Ngọc Linh| Phó Trưởng khoa| linh.dinhthingoc@phenikaa-uni.edu.vn  \\n8.| Khoa tiếng Pháp\\\\- Đ/c: Tầng 12A – Nhà A9 -Email: ffl@phenikaa-uni.edu.vn| ThS. Nguyễn Thúy Yên| Phó Trưởng khoa Phụ trách| yen.nguyenthuy@phenikaa-uni.edu.vn  \\n| | TS. Đặng Kim Hoa| Phó Trưởng khoa| hoa.dangkim@phenikaa-uni.edu.vn  \\n9.| Khoa Đông Phương học\\\\- Đ/c: Tầng 11 – Nhà A9\\\\- Email: fos@phenikaa-uni.edu.vn| GS.TS Nguyễn Văn Khang| Trưởng khoa| khang.nguyenvan@phenikaa-uni.edu.vn  \\n| | ThS. Ngô Thị Phương Thảo| Phó Trưởng khoa| thao.ngothiphuong@phenikaa-uni.edu.vn  \\n10.| Khoa Điện - Điện tử\\\\- Đ/c: Tầng 16 – Nhà A9\\\\- Email: eee@phenikaa-uni.edu.vn | GS.TS Nguyễn Văn Hiếu | Trưởng khoa | hieu.nguyenvan@phenikaa-uni.edu.vn  \\n|  | PGS.TS Trần Đức Tân | Phó Trưởng khoa| tan.tranduc@phenikaa-uni.edu.vn  \\n| | TS. Lương Văn Sử| Phó Trưởng khoa| su.luongvan@phenikaa-uni.edu.vn  \\n| | TS. Nguyễn Trọng Thắng| Phó Trưởng khoa| thang.nguyentrong@phenikaa-uni.edu.vn  \\n11.| Khoa Khoa học và Kỹ thuật Vật liệu\\\\- Đ/c: Tầng 18 – Nhà A9\\\\- Email: mse@phenikaa-uni.edu.vn| PGS.TS Phương Đình Tâm | Trưởng khoa| tam.phuongdinh@phenikaa-uni.edu.vn  \\n| | TS. Nguyễn Viết Hương| Phó Trưởng khoa | huong.nguyenviet@phenikaa-uni.edu.vn  \\n12.| Khoa Công nghệ Sinh học, Hóa học & Kỹ thuật Môi trường\\\\- Đ/c: Tầng 18 – Nhà A9\\\\- Email: bcee@phenikaa-uni.edu.vn| TS. Đào Văn Dương| Trưởng khoa | duong.daovan@phenikaa-uni.edu.vn  \\n| | TS. Vũ Ngọc Phan | Phó Trưởng khoa| phan.vungoc@phenikaa-uni.edu.vn  \\n| | TS. Nguyễn Hồng Minh| Phó Trưởng khoa| minh.nguyenhong@phenikaa-uni.edu.vn  \\n13.| Khoa Công nghệ Thông tin\\\\- Đ/c: Tầng 15 – Nhà A9\\\\- Email: cs@phenikaa-uni.edu.vn | PGS.TS Ngô Hồng Sơn | Trưởng khoa | son.ngohong@phenikaa-uni.edu.vn  \\n| | TS. Mai Xuân Tráng| Phó Trưởng khoa | trang.maixuan@phenikaa-uni.edu.vn  \\n| | TS. Phạm Ngọc Hưng| Phó Trưởng khoa | hung.phamngoc@phenikaa-uni.edu.vn  \\n14.| Khoa Kỹ thuật Ô tô và Năng lượng\\\\- Đ/c: Tầng 17 – Nhà A9\\\\- Email: vee@phenikaa-uni.edu.vn| PGS.TS Trần Quang Vinh| Trưởng khoa | vinh.tranquang@phenikaa-uni.edu.vn  \\n| | TS. Trần Anh Trung| Phó Trưởng khoa | trung.trananh@phenikaa-uni.edu.vn  \\n| | TS. Nguyễn Trung Kiên| Phó Trưởng khoa | kien.nguyentrung@phenikaa-uni.edu.vn  \\n15.| Khoa Công nghệ số liên nghành\\\\- Đ/c: Tầng 26 – Nhà A9-Email: f@phenikaa-uni.edu.vn| GS.TS. Nguyễn Văn Hiếu| Trưởng khoa | hieu.nguyenvan@phenikaa-uni.edu.vn  \\n| | TS. Mai Xuân Tráng| Phó Trưởng khoa| trang.maixuan@phenikaa-uni.edu.vn  \\n| | TS. Nguyễn Việt Anh| Phó Trưởng khoa| anh.nguyenviet@phenikaa-uni.edu.vn  \\n16.| Khoa Cơ khí cơ điện tử\\\\- Đ/c: Tầng 17 – Nhà A9-Email: mem@phenikaa-uni.edu.vn| PGS.TS. Vũ Lê Huy| Trưởng khoa | huy.vule@phenikaa-uni.edu.vn  \\n| | TS. Ngô Văn Lực | Phó Trưởng khoa| luc.ngovan@phenikaa-uni.edu.vn  \\n17.| Khoa Dược\\\\- Đ/c: Tầng 22 – Nhà A9\\\\- Email: fp@phenikaa-uni.edu.vn| PGS.TS Nguyễn Văn Hùng | Trưởng Khoa| hung.nguyenvan2@phenikaa-uni.edu.vn  \\n| | PGS.TS Dương Thị Ly Hương| Phó Trưởng khoa | huong.duongthily@phenikaa-uni.edu.vn  \\n| | PGS.TS Nguyễn Quỳnh Hoa| Phó Trưởng khoa | hoa.nguyenquynh@phenikaa-uni.edu.vn  \\n| | TS. Trần Tuấn Hiệp| Phó Trưởng khoa | hiep.trantuan@phenikaa-uni.edu.vn  \\n18.| Khoa Điều dưỡng\\\\- Đ/c: Tầng 21 – Nhà A9\\\\- Email: fn@phenikaa-uni.edu.vn| TS. Phạm Thị Thu Hương | Phó trưởng khoa| huong.phamthithu@phenikaa-uni.edu.vn  \\n| |  TS. Hoàng Thị Xuân Hương| Phó Trưởng khoa PT| huong.hoangthixuan@phenikaa-uni.edu.vn  \\n19.| Khoa Kỹ thuật Y học\\\\- Đ/c: Tầng 22 – Nhà A9\\\\- Email: mt@phenikaa-uni.edu.vn| GS.TS Cao Minh Châu | Trưởng khoa | chau.caominh@phenikaa-uni.edu.vn  \\n| | PGS.TS Bùi Thị Mai An  | Phó trưởng khoa| an.buithimai@phenikaa-uni.edu.vn  \\n20.| Khoa Y\\\\- Đ/c: Tầng 23 – Nhà A9\\\\- Email: fmed@phenikaa-uni.edu.vn| PGS.TS. Nguyễn Thanh Hồi| Trưởng khoa| hoi.nguyenthanh@phenikaa-uni.edu.vn  \\n| | PGS.TS.BS Trần Thị Minh Tâm| Phó Trưởng khoa| tam.tranthiminh@phenikaa-uni.edu.vn  \\n| | TS. Nguyễn Thị Sim| Phó Trưởng khoa| sim.nguyenthi@phenikaa-uni.edu.vn  \\n| | TS. Vũ Tiến Thăng| Phó Trưởng khoa| thang.vutien@phenikaa-uni.edu.vn  \\n21.| Khoa Răng Hàm Mặt\\\\- Đ/c: Tầng 23 – Nhà A9\\\\- Email: dent@phenikaa-uni.edu.vn | PGS.TS Lê Văn Sơn| Trưởng khoa| son.levan@phenikaa-uni.edu.vn  \\n| | TS. Nguyễn Giáo Hoàng| Phó Trưởng khoa| hoang.nguyengiao@phenikaa-uni.edu.vn  \\n22.| Khoa Khoa học y sinh- Đ/c: Tầng 21 – Nhà A9-Email: bms@phenikaa-uni.edu.vn|  GS.TS. Lưu Ngọc Hoạt|  Trưởng Khoa|  hoat.luungoc@phenikaa-uni.edu.vn  \\n| | TS. Trịnh Thị Trang Nhung| Phó Trưởng khoa| nhung.trinhthitrang@phenikaa-uni.edu.vn  \\n| | PGS.TS. Trần Thị Minh Tâm| Phó Trưởng khoa| tam.tranthiminh@phenikaa-uni.edu.vn  \\n23.| Khoa học y cổ truyền\\\\- Đ/c: Tầng 23 – Nhà A9\\\\- Email:| TS. Nguyễn Duy Tuân| Trưởng khoa| tuan.nguyenduy@phenikaa-uni.edu.vn  \\n| | TS. Trần Anh Tuấn| Phó Trưởng khoa| tuan.trananh@phenikaa-uni.edu.vn  \\n| | TS. Nguyễn Trường Nam| Phó Trưởng khoa| nam.nguyentruong@phenikaa-uni.edu.vn  \\n24.| Khoa Y tế công cộng| PGS.TS. Nguyễn Hoàng Long| Trưởng khoa| long.nguyenhoang@phenikaa-uni.edu.vn  \\n25.| Viện Đào tạo Quốc tế\\\\- Đ/c: Tầng 26 – Nhà A9\\\\- Email: sie@phenikaa-uni.edu.vn-ĐT: 02462918118/141| TS. Đồng Xuân Đảm| Viện trưởng| dam.dongxuan@phenikaa-uni.edu.vn  \\n| | TS. Nguyễn Thái Hà| Phó Viện trưởng| ha.nguyenthai@phenikaa-uni.edu.vn  \\n26.| Viện Nghiên cứu Nano\\\\- Đ/c: Tầng 25 – Nhà A9\\\\- Email: phena@phenikaa-uni.edu.vn| GS.TS Lê Anh Tuấn| Viện trưởng| tuan.leanh@phenikaa-uni.edu.vn  \\n| | PGS.TS Trần Quang Huy| Phó Viện trưởng| huy.tranquang@phenikaa-uni.edu.vn  \\n27.| Viện Nghiên cứu tiên tiến Phenikaa| GS.TS. Phùng Văn Đồng| Viện trưởng| dong.phungvan@phenikaa-uni.edu.vn  \\n| | GS.TS. Trần Hoài Nam| Phó Viện trưởng| nam.tranhoai@phenikaa-uni.edu.vn\\n\\n'"
      ]
     },
     "execution_count": 90,
     "metadata": {},
     "output_type": "execute_result"
    }
   ],
   "source": [
    "div_text = \"#\"\n",
    "for element in elements:\n",
    "    # driver = WebDriver(options=options)\n",
    "    html_code = element.get_attribute(\"innerHTML\")\n",
    "    html_text = convert_html_to_markdown(html_code)\n",
    "    print(html_text)\n",
    "    div_text += (html_text + \"\\n\")\n",
    "div_text"
   ]
  },
  {
   "cell_type": "code",
   "execution_count": 91,
   "metadata": {},
   "outputs": [],
   "source": [
    "overwrite_to_file(div_text)"
   ]
  },
  {
   "cell_type": "markdown",
   "metadata": {},
   "source": [
    "# Phần 1: Quy chế - Quy định"
   ]
  },
  {
   "cell_type": "code",
   "execution_count": 110,
   "metadata": {},
   "outputs": [],
   "source": [
    "overwrite_to_file(\"# Phần 1. QUY CHẾ - QUY ĐỊNH\")"
   ]
  },
  {
   "cell_type": "markdown",
   "metadata": {},
   "source": [
    "## 1. Hoạt động đào tạo tại trường đại học Phenikaa"
   ]
  },
  {
   "cell_type": "code",
   "execution_count": 94,
   "metadata": {},
   "outputs": [
    {
     "data": {
      "text/plain": [
       "'https://sotaysv.phenikaa-uni.edu.vn/home/1.-hoat-dong-dao-tao-tai-truong-dai-hoc-phenikaa'"
      ]
     },
     "execution_count": 94,
     "metadata": {},
     "output_type": "execute_result"
    }
   ],
   "source": [
    "driver.get(hrefs[3])\n",
    "driver.current_url"
   ]
  },
  {
   "cell_type": "code",
   "execution_count": 120,
   "metadata": {},
   "outputs": [
    {
     "data": {
      "text/plain": [
       "[<selenium.webdriver.remote.webelement.WebElement (session=\"188eed2ac9bdc748ff988e18c12dfdd7\", element=\"f.92CD828F43074E435A056F74A7E8BB71.d.F45B3A33D96E3FE915B2685DF9BA1F4F.e.2737\")>,\n",
       " <selenium.webdriver.remote.webelement.WebElement (session=\"188eed2ac9bdc748ff988e18c12dfdd7\", element=\"f.92CD828F43074E435A056F74A7E8BB71.d.F45B3A33D96E3FE915B2685DF9BA1F4F.e.2738\")>]"
      ]
     },
     "execution_count": 120,
     "metadata": {},
     "output_type": "execute_result"
    }
   ],
   "source": [
    "elements = driver.find_elements(By.XPATH, main_xpath + \"/*\")\n",
    "elements = elements[:2]\n",
    "elements"
   ]
  },
  {
   "cell_type": "code",
   "execution_count": 107,
   "metadata": {},
   "outputs": [
    {
     "data": {
      "text/plain": [
       "'header'"
      ]
     },
     "execution_count": 107,
     "metadata": {},
     "output_type": "execute_result"
    }
   ],
   "source": [
    "elements[0].tag_name"
   ]
  },
  {
   "cell_type": "code",
   "execution_count": 108,
   "metadata": {},
   "outputs": [
    {
     "data": {
      "text/plain": [
       "'# ️1.1 Chương trình đào tạo bậc đại học?\\n'"
      ]
     },
     "execution_count": 108,
     "metadata": {},
     "output_type": "execute_result"
    }
   ],
   "source": [
    "header_html = elements[0].get_attribute(\"innerHTML\")\n",
    "header_text = convert_html_to_markdown(header_html)\n",
    "header_text"
   ]
  },
  {
   "cell_type": "code",
   "execution_count": 109,
   "metadata": {},
   "outputs": [],
   "source": [
    "overwrite_to_file(header_text)"
   ]
  },
  {
   "cell_type": "code",
   "execution_count": 127,
   "metadata": {},
   "outputs": [
    {
     "data": {
      "text/plain": [
       "'div'"
      ]
     },
     "execution_count": 127,
     "metadata": {},
     "output_type": "execute_result"
    }
   ],
   "source": [
    "elements[1].tag_name"
   ]
  },
  {
   "cell_type": "code",
   "execution_count": 135,
   "metadata": {},
   "outputs": [
    {
     "data": {
      "text/plain": [
       "['https://sotaysv.phenikaa-uni.edu.vn/home/1.-hoat-dong-dao-tao-tai-truong-dai-hoc-phenikaa/1.1-chuong-trinh-dao-tao-bac-dai-hoc',\n",
       " 'https://sotaysv.phenikaa-uni.edu.vn/home/1.-hoat-dong-dao-tao-tai-truong-dai-hoc-phenikaa/1.2-hoc-phan-va-tin-chi',\n",
       " 'https://sotaysv.phenikaa-uni.edu.vn/home/1.-hoat-dong-dao-tao-tai-truong-dai-hoc-phenikaa/1.3-danh-gia-ket-qua-hoc-tap',\n",
       " 'https://sotaysv.phenikaa-uni.edu.vn/home/1.-hoat-dong-dao-tao-tai-truong-dai-hoc-phenikaa/1.4-thoi-gian-va-ke-hoach-dao-tao',\n",
       " 'https://sotaysv.phenikaa-uni.edu.vn/home/1.-hoat-dong-dao-tao-tai-truong-dai-hoc-phenikaa/1.5-dang-ky-khoi-luong-hoc-tap-va-rut-bot-hoc-phan-da-dang-ky',\n",
       " 'https://sotaysv.phenikaa-uni.edu.vn/home/1.-hoat-dong-dao-tao-tai-truong-dai-hoc-phenikaa/1.6-dang-ky-hoc-lai-va-hoc-cai-thien-diem',\n",
       " 'https://sotaysv.phenikaa-uni.edu.vn/home/1.-hoat-dong-dao-tao-tai-truong-dai-hoc-phenikaa/1.7-nghi-hoc-tam-thoi',\n",
       " 'https://sotaysv.phenikaa-uni.edu.vn/home/1.-hoat-dong-dao-tao-tai-truong-dai-hoc-phenikaa/1.8-hoc-cung-luc-hai-chuong-trinh',\n",
       " 'https://sotaysv.phenikaa-uni.edu.vn/home/1.-hoat-dong-dao-tao-tai-truong-dai-hoc-phenikaa/1.9-xep-hang-nam-dao-tao-va-hoc-luc',\n",
       " 'https://sotaysv.phenikaa-uni.edu.vn/home/1.-hoat-dong-dao-tao-tai-truong-dai-hoc-phenikaa/1.10-canh-bao-ket-qua-hoc-tap-buoc-thoi-hoc',\n",
       " 'https://sotaysv.phenikaa-uni.edu.vn/home/1.-hoat-dong-dao-tao-tai-truong-dai-hoc-phenikaa/1.11-chuyen-truong',\n",
       " 'https://sotaysv.phenikaa-uni.edu.vn/home/1.-hoat-dong-dao-tao-tai-truong-dai-hoc-phenikaa/1.12-dieu-kien-du-thi-to-chuc-thi-ket-thuc-hoc-phan',\n",
       " 'https://sotaysv.phenikaa-uni.edu.vn/home/1.-hoat-dong-dao-tao-tai-truong-dai-hoc-phenikaa/1.13-khieu-nai-diem-va-xem-lai-ket-qua-bai-thi-hoc-phan',\n",
       " 'https://sotaysv.phenikaa-uni.edu.vn/home/1.-hoat-dong-dao-tao-tai-truong-dai-hoc-phenikaa/1.14-cach-tinh-diem-trung-binh-hoc-ky-nam-hoc',\n",
       " 'https://sotaysv.phenikaa-uni.edu.vn/home/1.-hoat-dong-dao-tao-tai-truong-dai-hoc-phenikaa/1.15-dieu-kien-xet-tot-nghiep-va-cong-nhan-tot-nghiep',\n",
       " 'https://sotaysv.phenikaa-uni.edu.vn/home/1.-hoat-dong-dao-tao-tai-truong-dai-hoc-phenikaa/1.16-cap-bang-tot-nghiep',\n",
       " 'https://sotaysv.phenikaa-uni.edu.vn/home/1.-hoat-dong-dao-tao-tai-truong-dai-hoc-phenikaa/1.17-cac-thu-tuc-hanh-chinh-ho-tro-sinh-vien-tai-phong-dao-tao',\n",
       " 'https://sotaysv.phenikaa-uni.edu.vn/home/1.-hoat-dong-dao-tao-tai-truong-dai-hoc-phenikaa/1.18-cong-thong-tin-va-thoi-gian-hoc-tap']"
      ]
     },
     "execution_count": 135,
     "metadata": {},
     "output_type": "execute_result"
    }
   ],
   "source": [
    "# elements[1].text\n",
    "main_hrefs = elements[1].find_elements(By.XPATH, \"./a\")\n",
    "main_hrefs = [href.get_attribute(\"href\") for href in main_hrefs]\n",
    "main_hrefs"
   ]
  },
  {
   "cell_type": "code",
   "execution_count": 136,
   "metadata": {},
   "outputs": [],
   "source": [
    "saving_markdown_from_multiple_href(main_hrefs, heading=3)"
   ]
  },
  {
   "cell_type": "markdown",
   "metadata": {},
   "source": [
    "## 2. Hoạt động công tác sinh viên"
   ]
  },
  {
   "cell_type": "code",
   "execution_count": 139,
   "metadata": {},
   "outputs": [
    {
     "data": {
      "text/plain": [
       "'https://sotaysv.phenikaa-uni.edu.vn/home/2.-hoat-dong-cong-tac-sinh-vien'"
      ]
     },
     "execution_count": 139,
     "metadata": {},
     "output_type": "execute_result"
    }
   ],
   "source": [
    "driver.get(hrefs[4])\n",
    "driver.current_url"
   ]
  },
  {
   "cell_type": "code",
   "execution_count": 140,
   "metadata": {},
   "outputs": [
    {
     "data": {
      "text/plain": [
       "[<selenium.webdriver.remote.webelement.WebElement (session=\"188eed2ac9bdc748ff988e18c12dfdd7\", element=\"f.92CD828F43074E435A056F74A7E8BB71.d.5AF45F8B6F5D494C89CA65A819F82F6E.e.4117\")>,\n",
       " <selenium.webdriver.remote.webelement.WebElement (session=\"188eed2ac9bdc748ff988e18c12dfdd7\", element=\"f.92CD828F43074E435A056F74A7E8BB71.d.5AF45F8B6F5D494C89CA65A819F82F6E.e.4118\")>]"
      ]
     },
     "execution_count": 140,
     "metadata": {},
     "output_type": "execute_result"
    }
   ],
   "source": [
    "elements = driver.find_elements(By.XPATH, MAIN_XPATH + \"/*\")\n",
    "elements = elements[:2]\n",
    "elements"
   ]
  },
  {
   "cell_type": "code",
   "execution_count": 144,
   "metadata": {},
   "outputs": [
    {
     "data": {
      "text/plain": [
       "'# ️2\\\\. Hoạt động công tác sinh viên\\n'"
      ]
     },
     "execution_count": 144,
     "metadata": {},
     "output_type": "execute_result"
    }
   ],
   "source": [
    "markdown_text = get_markdown_from_a_element(elements[0])\n",
    "markdown_text"
   ]
  },
  {
   "cell_type": "code",
   "execution_count": 145,
   "metadata": {},
   "outputs": [],
   "source": [
    "overwrite_to_file(markdown_text)"
   ]
  },
  {
   "cell_type": "code",
   "execution_count": 147,
   "metadata": {},
   "outputs": [
    {
     "data": {
      "text/plain": [
       "['https://sotaysv.phenikaa-uni.edu.vn/home/2.-hoat-dong-cong-tac-sinh-vien/2.1-ho-tro-hanh-chinh-1-cua-quan-ly-thong-tin-sinh-vien',\n",
       " 'https://sotaysv.phenikaa-uni.edu.vn/home/2.-hoat-dong-cong-tac-sinh-vien/2.2-co-van-hoc-tap',\n",
       " 'https://sotaysv.phenikaa-uni.edu.vn/home/2.-hoat-dong-cong-tac-sinh-vien/2.3-hoc-bong-khuyen-khich-hoc-tap-ren-luyen-khen-thuong-ky-luat-sinh-vien',\n",
       " 'https://sotaysv.phenikaa-uni.edu.vn/home/2.-hoat-dong-cong-tac-sinh-vien/2.4-cach-thuc-lien-he-voi-phong-cong-tac-sinh-vien']"
      ]
     },
     "execution_count": 147,
     "metadata": {},
     "output_type": "execute_result"
    }
   ],
   "source": [
    "main_hrefs = get_multiple_hrefs_from_a_element(elements[1])\n",
    "main_hrefs"
   ]
  },
  {
   "cell_type": "code",
   "execution_count": 149,
   "metadata": {},
   "outputs": [],
   "source": [
    "saving_markdown_from_multiple_href(hrefs=main_hrefs, heading=3)"
   ]
  },
  {
   "cell_type": "markdown",
   "metadata": {},
   "source": [
    "## 3. Hoạt động Trung tâm Tư vấn, Hỗ trợ và Đổi mới sáng tạo sinh viên"
   ]
  },
  {
   "cell_type": "code",
   "execution_count": 180,
   "metadata": {},
   "outputs": [
    {
     "data": {
      "text/plain": [
       "'https://sotaysv.phenikaa-uni.edu.vn/home/3.-hoat-dong-trung-tam-tu-van-ho-tro-va-doi-moi-sang-tao-sinh-vien'"
      ]
     },
     "execution_count": 180,
     "metadata": {},
     "output_type": "execute_result"
    }
   ],
   "source": [
    "driver = WebDriver(options=options)\n",
    "driver.get('https://sotaysv.phenikaa-uni.edu.vn/home/3.-hoat-dong-trung-tam-tu-van-ho-tro-va-doi-moi-sang-tao-sinh-vien')\n",
    "driver.current_url"
   ]
  },
  {
   "cell_type": "code",
   "execution_count": 181,
   "metadata": {},
   "outputs": [],
   "source": [
    "driver.quit()"
   ]
  },
  {
   "cell_type": "code",
   "execution_count": 185,
   "metadata": {},
   "outputs": [
    {
     "name": "stdout",
     "output_type": "stream",
     "text": [
      "HAS 2 elements\n",
      "https://sotaysv.phenikaa-uni.edu.vn/home/3.-hoat-dong-trung-tam-tu-van-ho-tro-va-doi-moi-sang-tao-sinh-vien has subpages!\n"
     ]
    }
   ],
   "source": [
    "saving_markdown_from_a_page('https://sotaysv.phenikaa-uni.edu.vn/home/3.-hoat-dong-trung-tam-tu-van-ho-tro-va-doi-moi-sang-tao-sinh-vien')"
   ]
  },
  {
   "cell_type": "code",
   "execution_count": 158,
   "metadata": {},
   "outputs": [],
   "source": [
    "saving_markdown_from_a_subpage()"
   ]
  },
  {
   "cell_type": "markdown",
   "metadata": {},
   "source": [
    "## 4. Trung tâm Thông tin - Thư viện "
   ]
  },
  {
   "cell_type": "code",
   "execution_count": 187,
   "metadata": {},
   "outputs": [
    {
     "name": "stdout",
     "output_type": "stream",
     "text": [
      "HAS 2 elements\n",
      "https://sotaysv.phenikaa-uni.edu.vn/home/8.-bao-hiem-y-te has subpages!\n",
      "HAS 2 elements\n",
      "https://sotaysv.phenikaa-uni.edu.vn/home/9.-nghien-cuu-khoa-hoc-sinh-vien hasn't subpages!\n",
      "HAS 2 elements\n",
      "https://sotaysv.phenikaa-uni.edu.vn/home/10.-he-thong-cong-nghe-thong-tin has subpages!\n",
      "HAS 2 elements\n",
      "https://sotaysv.phenikaa-uni.edu.vn/home/11.-khieu-nai-to-cao-kien-nghi-phan-anh. hasn't subpages!\n",
      "HAS 2 elements\n",
      "https://sotaysv.phenikaa-uni.edu.vn/home/12.-bo-quy-tac-ung-xu-van-hoa-hoc-duong-truong-dai-hoc-phenikaa has subpages!\n"
     ]
    }
   ],
   "source": [
    "for href in hrefs[9:14]:\n",
    "    saving_markdown_from_a_page(href)"
   ]
  },
  {
   "cell_type": "markdown",
   "metadata": {},
   "source": [
    "# PHẦN II: CÔNG TÁC PHÁT TRIỂN ĐẢNG VÀ PHONG TRÀO SINH VIÊN"
   ]
  },
  {
   "cell_type": "code",
   "execution_count": 193,
   "metadata": {},
   "outputs": [],
   "source": [
    "overwrite_to_file(\"# PHẦN II: CÔNG TÁC PHÁT TRIỂN ĐẢNG VÀ PHONG TRÀO SINH VIÊN\")"
   ]
  },
  {
   "cell_type": "code",
   "execution_count": 194,
   "metadata": {},
   "outputs": [],
   "source": [
    "hrefs_part2 = ['https://sotaysv.phenikaa-uni.edu.vn/home/1.-dang-uy-truong',\n",
    "               'https://sotaysv.phenikaa-uni.edu.vn/home/2.-doan-thanh-nien-truong',\n",
    "               'https://sotaysv.phenikaa-uni.edu.vn/home/3.-phong-trao-sinh-vien-5-tot.',\n",
    "               'https://sotaysv.phenikaa-uni.edu.vn/home/4.-hoat-dong-cau-lac-bo-sinh-vien.',\n",
    "               'https://sotaysv.phenikaa-uni.edu.vn/home/5.-phong-trao-the-duc-the-thao.',\n",
    "               'https://sotaysv.phenikaa-uni.edu.vn/home/6.-cac-danh-hieu-thi-dua.'\n",
    "               ]"
   ]
  },
  {
   "cell_type": "code",
   "execution_count": 195,
   "metadata": {},
   "outputs": [
    {
     "name": "stdout",
     "output_type": "stream",
     "text": [
      "HAS 2 elements\n",
      "https://sotaysv.phenikaa-uni.edu.vn/home/1.-dang-uy-truong hasn't subpages!\n",
      "HAS 2 elements\n",
      "https://sotaysv.phenikaa-uni.edu.vn/home/2.-doan-thanh-nien-truong hasn't subpages!\n",
      "HAS 2 elements\n",
      "https://sotaysv.phenikaa-uni.edu.vn/home/3.-phong-trao-sinh-vien-5-tot. hasn't subpages!\n",
      "HAS 2 elements\n",
      "https://sotaysv.phenikaa-uni.edu.vn/home/4.-hoat-dong-cau-lac-bo-sinh-vien. hasn't subpages!\n",
      "HAS 2 elements\n",
      "https://sotaysv.phenikaa-uni.edu.vn/home/5.-phong-trao-the-duc-the-thao. hasn't subpages!\n",
      "HAS 2 elements\n",
      "https://sotaysv.phenikaa-uni.edu.vn/home/6.-cac-danh-hieu-thi-dua. hasn't subpages!\n"
     ]
    }
   ],
   "source": [
    "for href in hrefs_part2:\n",
    "    saving_markdown_from_a_page(href)"
   ]
  },
  {
   "cell_type": "code",
   "execution_count": 196,
   "metadata": {},
   "outputs": [
    {
     "data": {
      "text/plain": [
       "['https://sotaysv.phenikaa-uni.edu.vn/home/gioi-thieu-chung',\n",
       " 'https://sotaysv.phenikaa-uni.edu.vn/home/1.-cac-nganh-dao-tao-chuong-trinh-dao-tao-cua-truong',\n",
       " 'https://sotaysv.phenikaa-uni.edu.vn/home/2.-cac-don-vi-bo-phan-trong-truong',\n",
       " 'https://sotaysv.phenikaa-uni.edu.vn/home/1.-hoat-dong-dao-tao-tai-truong-dai-hoc-phenikaa',\n",
       " 'https://sotaysv.phenikaa-uni.edu.vn/home/2.-hoat-dong-cong-tac-sinh-vien',\n",
       " 'https://sotaysv.phenikaa-uni.edu.vn/home/4.-trung-tam-thong-tin-thu-vien',\n",
       " 'https://sotaysv.phenikaa-uni.edu.vn/home/5.-cac-quy-dinh-ve-thanh-toan-hoc-phi',\n",
       " 'https://sotaysv.phenikaa-uni.edu.vn/home/6.-cac-chuong-trinh-trao-doi-sinh-vien-quoc-te',\n",
       " 'https://sotaysv.phenikaa-uni.edu.vn/home/7.-ky-tuc-xa-sinh-vien',\n",
       " 'https://sotaysv.phenikaa-uni.edu.vn/home/8.-bao-hiem-y-te',\n",
       " 'https://sotaysv.phenikaa-uni.edu.vn/home/9.-nghien-cuu-khoa-hoc-sinh-vien',\n",
       " 'https://sotaysv.phenikaa-uni.edu.vn/home/10.-he-thong-cong-nghe-thong-tin',\n",
       " 'https://sotaysv.phenikaa-uni.edu.vn/home/11.-khieu-nai-to-cao-kien-nghi-phan-anh.',\n",
       " 'https://sotaysv.phenikaa-uni.edu.vn/home/12.-bo-quy-tac-ung-xu-van-hoa-hoc-duong-truong-dai-hoc-phenikaa',\n",
       " 'https://sotaysv.phenikaa-uni.edu.vn/home/1.-dang-uy-truong',\n",
       " 'https://sotaysv.phenikaa-uni.edu.vn/home/2.-doan-thanh-nien-truong',\n",
       " 'https://sotaysv.phenikaa-uni.edu.vn/home/1.-lam-the-nao-de-hoc-tap-thanh-cong-o-truong-dai-hoc',\n",
       " 'https://sotaysv.phenikaa-uni.edu.vn/home/2.-goc-ban-be-va-tinh-yeu',\n",
       " 'https://sotaysv.phenikaa-uni.edu.vn/home/3.-an-va-choi',\n",
       " 'https://sotaysv.phenikaa-uni.edu.vn/home/4.-di-chuyen',\n",
       " 'https://sotaysv.phenikaa-uni.edu.vn/home/5.-hoat-dong-ngoai-khoa',\n",
       " 'https://sotaysv.phenikaa-uni.edu.vn/home/nhat-ki-sinh-vien']"
      ]
     },
     "execution_count": 196,
     "metadata": {},
     "output_type": "execute_result"
    }
   ],
   "source": [
    "hrefs"
   ]
  },
  {
   "cell_type": "markdown",
   "metadata": {},
   "source": [
    "# PHẦN III: 1001 CÁCH ĐỂ THÀNH CÔNG KHI HỌC ĐẠI HỌC"
   ]
  },
  {
   "cell_type": "code",
   "execution_count": 199,
   "metadata": {},
   "outputs": [],
   "source": [
    "overwrite_to_file(\"# PHẦN III: 1001 CÁCH ĐỂ THÀNH CÔNG KHI HỌC ĐẠI HỌC\")"
   ]
  },
  {
   "cell_type": "code",
   "execution_count": 200,
   "metadata": {},
   "outputs": [
    {
     "name": "stdout",
     "output_type": "stream",
     "text": [
      "HAS 2 elements\n",
      "https://sotaysv.phenikaa-uni.edu.vn/home/1.-lam-the-nao-de-hoc-tap-thanh-cong-o-truong-dai-hoc hasn't subpages!\n",
      "HAS 2 elements\n",
      "https://sotaysv.phenikaa-uni.edu.vn/home/2.-goc-ban-be-va-tinh-yeu has subpages!\n",
      "HAS 2 elements\n",
      "https://sotaysv.phenikaa-uni.edu.vn/home/3.-an-va-choi hasn't subpages!\n",
      "HAS 2 elements\n",
      "https://sotaysv.phenikaa-uni.edu.vn/home/4.-di-chuyen hasn't subpages!\n",
      "HAS 2 elements\n",
      "https://sotaysv.phenikaa-uni.edu.vn/home/5.-hoat-dong-ngoai-khoa has subpages!\n",
      "HAS 2 elements\n",
      "https://sotaysv.phenikaa-uni.edu.vn/home/nhat-ki-sinh-vien hasn't subpages!\n"
     ]
    }
   ],
   "source": [
    "for href in hrefs[16:]:\n",
    "    saving_markdown_from_a_page(href)"
   ]
  },
  {
   "cell_type": "code",
   "execution_count": null,
   "metadata": {},
   "outputs": [],
   "source": []
  }
 ],
 "metadata": {
  "kernelspec": {
   "display_name": "datn",
   "language": "python",
   "name": "datn"
  },
  "language_info": {
   "codemirror_mode": {
    "name": "ipython",
    "version": 3
   },
   "file_extension": ".py",
   "mimetype": "text/x-python",
   "name": "python",
   "nbconvert_exporter": "python",
   "pygments_lexer": "ipython3",
   "version": "3.11.3"
  }
 },
 "nbformat": 4,
 "nbformat_minor": 2
}
