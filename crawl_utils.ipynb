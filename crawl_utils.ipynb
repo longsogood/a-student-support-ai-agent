{
 "cells": [
  {
   "cell_type": "code",
   "execution_count": 2,
   "metadata": {},
   "outputs": [],
   "source": [
    "from selenium import webdriver\n",
    "from selenium.webdriver.chrome.options import Options\n",
    "from selenium.webdriver.common.by import By\n",
    "import html2text\n",
    "import markdown\n",
    "from selenium.webdriver.chrome.webdriver import WebDriver\n",
    "import re\n"
   ]
  },
  {
   "cell_type": "code",
   "execution_count": 3,
   "metadata": {},
   "outputs": [],
   "source": [
    "def remove_icons(data):\n",
    "    \"\"\"\n",
    "    Removes emoji or icon elements from a list by checking if the element is non-alphanumeric.\n",
    "\n",
    "    Args:\n",
    "        data (list): A list of strings.\n",
    "\n",
    "    Returns:\n",
    "        list: A list with elements that are not icons or emojis.\n",
    "    \"\"\"\n",
    "    # Regex to check for alphanumeric characters\n",
    "    alphanumeric_pattern = re.compile(r'^[\\w\\s.,!?/:;-]+$')\n",
    "\n",
    "\n",
    "    return [item for item in data if alphanumeric_pattern.match(item)]\n"
   ]
  },
  {
   "cell_type": "code",
   "execution_count": null,
   "metadata": {},
   "outputs": [],
   "source": [
    "hr"
   ]
  }
 ],
 "metadata": {
  "kernelspec": {
   "display_name": "datn",
   "language": "python",
   "name": "datn"
  },
  "language_info": {
   "codemirror_mode": {
    "name": "ipython",
    "version": 3
   },
   "file_extension": ".py",
   "mimetype": "text/x-python",
   "name": "python",
   "nbconvert_exporter": "python",
   "pygments_lexer": "ipython3",
   "version": "3.11.3"
  }
 },
 "nbformat": 4,
 "nbformat_minor": 2
}
